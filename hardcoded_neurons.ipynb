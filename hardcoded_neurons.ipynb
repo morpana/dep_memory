{
 "cells": [
  {
   "cell_type": "code",
   "execution_count": 1,
   "metadata": {},
   "outputs": [],
   "source": [
    "import tensorflow as tf\n",
    "import numpy as np\n",
    "import pickle"
   ]
  },
  {
   "cell_type": "markdown",
   "metadata": {},
   "source": [
    "### Encoding"
   ]
  },
  {
   "cell_type": "code",
   "execution_count": 2,
   "metadata": {},
   "outputs": [],
   "source": [
    "# HTM SDR Scalar Encoder\n",
    "# Input: Scalar\n",
    "# Parameters: n - number of units, w - bits used to represent signal (width), b - buckets (i.e. resolution), \n",
    "#             min - minimum value of input (inclusive), max - maximum input value (inclusive)\n",
    "class scalar_sdr:\n",
    "    \n",
    "    def __init__(self, b, w, min_, max_, shape=(1,1), neg=True):\n",
    "        if type(b) != int or type(w) != int or type(min_) != float or type(max_) != float:\n",
    "            raise TypeError(\"b - buckets must be int, w - width must be int, min_ must be float and max_ must be float\")\n",
    "        self.b = b # must be int\n",
    "        self.w = w # must be int\n",
    "        self.min = min_ # must be float\n",
    "        self.max = max_ # must be float\n",
    "        self.n = b+w-1 # number of units for encoding\n",
    "        self.ndarray_shape = shape\n",
    "        self.nodes = self.n*reduce(lambda x, y: x*y, self.ndarray_shape)\n",
    "        self.neg = neg\n",
    "        \n",
    "    def encode(self,input_):\n",
    "        if input_ > self.max or input_ < self.min:\n",
    "            raise ValueError(\"Input outside encoder range!\")\n",
    "        if type(input_) != float:\n",
    "            raise TypeError(\"Input must be float!\")\n",
    "        if self.neg:\n",
    "            output = np.zeros(self.n)-1\n",
    "        else:\n",
    "            output = np.zeros(self.n)\n",
    "        index = int((input_-self.min)/(self.max-self.min)*self.b)\n",
    "        output[index:index+self.w] = 1\n",
    "        return output\n",
    "    \n",
    "    def encode_ndarray(self,input_):\n",
    "        if input_.shape != self.ndarray_shape:\n",
    "            raise ValueError(\"Input dimensions do not match specified encoder dimensions!\")\n",
    "        output = []\n",
    "        for i in np.nditer(input_, order='K'):\n",
    "            output.append(self.encode(float(i)))\n",
    "        return np.array(output)\n",
    "    '''\n",
    "    def decode(self,input_):\n",
    "        if len(input_) != self.n: # or len(np.nonzero(input_+1)[0]) != self.w: <-- Can't have since the network is not guaranteed to produce this by any means!!!\n",
    "            raise TypeError(\"Input does not correspond to encoder encoded data!\")\n",
    "        # output = np.nonzero(input_+1)[0][0]/float(self.b)*(self.max-self.min)+self.min <-- This doesn't work really since bits can randomly fire, taking the average is a more reasonable decoding\n",
    "        median = np.median(np.nonzero(input_+1)[0])            \n",
    "        try:\n",
    "            output = int(median-float(self.w)/2.0)/float(self.b)*(self.max-self.min)+self.min # i.e. figure out center (median more outlier resistant than mean) and subtract width/2\n",
    "        except ValueError:\n",
    "            output = None\n",
    "        return output\n",
    "    '''\n",
    "    def decode(self,input_):\n",
    "        if len(input_) != self.n: \n",
    "            raise TypeError(\"Input length does not match encoder length!\")\n",
    "        if len(np.nonzero(input_+1)[0]) == 0:\n",
    "            return np.nan\n",
    "        max_ = 0\n",
    "        output = 0.0\n",
    "        for i in range(self.b):\n",
    "            x = np.zeros(self.n)-1\n",
    "            x[i:i+self.w] = 1\n",
    "            if x.shape != input_.shape:\n",
    "                input_ = input_.reshape(x.shape)\n",
    "            score = np.inner(x,input_) # this was broken for some input formats \n",
    "            if score > max_:\n",
    "                max_ = score\n",
    "                output = float(i)/float(self.b)*(self.max-self.min)+self.min\n",
    "        return output\n",
    "            \n",
    "    def decode_ndarray(self,input_):\n",
    "        if input_.shape != (reduce(lambda x, y: x*y, self.ndarray_shape)*self.n,): \n",
    "            raise ValueError(\"Input dimensions do not match specified encoder dimensions!\")\n",
    "        input_ = input_.reshape(self.ndarray_shape+(self.n,))\n",
    "        output = []\n",
    "        for i in np.ndindex(self.ndarray_shape):\n",
    "            output.append(self.decode(input_[i]))\n",
    "        output = np.array(output).reshape(self.ndarray_shape)\n",
    "        return output\n",
    "    \n",
    "    def set_ndarray_shape(self,shape):\n",
    "        if type(shape) != tuple:\n",
    "            raise TypeError(\"Must provide tuple of array dimensions!\")\n",
    "        self.ndarray_shape = shape"
   ]
  },
  {
   "cell_type": "markdown",
   "metadata": {},
   "source": [
    "### Behavior data"
   ]
  },
  {
   "cell_type": "code",
   "execution_count": 3,
   "metadata": {},
   "outputs": [],
   "source": [
    "fb = pickle.load(open(\"/home/markus/dep/dep_data/bases/fb.pickle\",\"rb\"))\n",
    "fs = pickle.load(open(\"/home/markus/dep/dep_data/bases/fs.pickle\",\"rb\"))\n",
    "sd = pickle.load(open(\"/home/markus/dep/dep_data/bases/sd.pickle\", \"rb\"))\n",
    "zero = [np.zeros(fb[0].shape),np.zeros(fb[1].shape), np.zeros(fb[2].shape)]\n",
    "\n",
    "\n",
    "bases = {\"fb\": fb, \"fs\": fs, \"sd\": sd, \"zero\": zero}"
   ]
  },
  {
   "cell_type": "code",
   "execution_count": 4,
   "metadata": {},
   "outputs": [],
   "source": [
    "behaviors = [\"zero\",\"fb\",\"fs\",\"sd\"]\n",
    "n = len(behaviors)\n",
    "start = 0.0\n",
    "width = 1.0/float(n)\n",
    "brain_ranges = {}\n",
    "for i in range(1,n+1):\n",
    "    brain_ranges[behaviors[i-1]] = ((i-1)*width-start, i*width-start)\n",
    "brain_id = {}\n",
    "for behavior in behaviors:\n",
    "    brain_id[behavior] = (brain_ranges[behavior][0]+brain_ranges[behavior][1])/2"
   ]
  },
  {
   "cell_type": "markdown",
   "metadata": {},
   "source": [
    "### Hard coded neurons"
   ]
  },
  {
   "cell_type": "code",
   "execution_count": 5,
   "metadata": {},
   "outputs": [],
   "source": [
    "active_motors = [1,3,4,5,10,12]\n",
    "ts = {'fb': 124, 'fs': 126, 'sd': 117, 'zero': 0}\n",
    "#id_to_int = dict(zip(brain_id.keys(),range(len(brain_id))))"
   ]
  },
  {
   "cell_type": "markdown",
   "metadata": {},
   "source": [
    "### Position only"
   ]
  },
  {
   "cell_type": "code",
   "execution_count": 6,
   "metadata": {},
   "outputs": [],
   "source": [
    "pos_encoder = scalar_sdr(7,1,-100000.0,100000.0,shape=(6,1),neg=False)\n",
    "\n",
    "weights_pos = np.zeros((6,pos_encoder.n,1))\n",
    "\n",
    "for i in range(len(active_motors)):\n",
    "    for id_ in bases:\n",
    "        # for each trigger position, create weights which will pass matching input through, and ignore others\n",
    "        pos = bases[id_][0][ts[id_]][active_motors[i]]\n",
    "        index_pos = int((pos-pos_encoder.min)/(pos_encoder.max-pos_encoder.min)*pos_encoder.b)\n",
    "        weights_pos[i,index_pos:index_pos+pos_encoder.w] = 1\n",
    "\n",
    "id_ = 'fb'\n",
    "index = ts[id_]\n",
    "n = bases[id_][0].shape[0]\n",
    "\n",
    "pos_ = []\n",
    "\n",
    "for i in range(n):\n",
    "    pos_.append(pos_encoder.encode_ndarray(bases[id_][0][i][active_motors].reshape(6,1)).reshape(6,pos_encoder.n))\n",
    "pos_ = np.array(pos_)\n",
    "\n",
    "trig_b = np.ones((n,6))\n",
    "trig_w = np.zeros((n,6))-0.99999\n",
    "\n",
    "temp = pos_.reshape(n,6,pos_encoder.n)\n",
    "np.nonzero(temp[0])\n",
    "\n",
    "weights_pos = list(weights_pos.reshape(1,6,pos_encoder.n,1))\n",
    "weights_pos = np.array(weights_pos*n)\n",
    "\n",
    "with tf.name_scope(\"input\"):\n",
    "    pos_nodes = tf.placeholder(tf.float32, [None,6,pos_encoder.n], name=\"motor_pos\")\n",
    "    trigger_bias = tf.placeholder(tf.float32, [None,6], name = \"trigger_bias\")\n",
    "\n",
    "with tf.name_scope(\"weights\"):\n",
    "    w_pos = tf.placeholder(tf.float32, [None,6,pos_encoder.n], name=\"pos_weights\")\n",
    "    w_trig = tf.placeholder(tf.float32, [None,6], name = \"trigger_weights\")\n",
    "\n",
    "with tf.name_scope(\"trigger\"):\n",
    "    pos_input = tf.multiply(pos_nodes,w_pos)\n",
    "    motor_activation = tf.nn.relu(tf.sign(pos_input))\n",
    "    trigger_sum_0 = tf.reduce_sum(motor_activation, axis = 2)\n",
    "    bias = tf.multiply(trigger_bias,w_trig)\n",
    "    trigger_sum_1 = tf.reduce_sum(trigger_sum_0 + bias,axis=1)\n",
    "    trigger_activation = tf.nn.relu(tf.sign(trigger_sum_1))\n",
    "\n",
    "sess = tf.Session()\n",
    "init = tf.global_variables_initializer()\n",
    "sess.run(init)\n",
    "out = sess.run(trigger_activation,{pos_nodes: pos_.reshape(n,6,pos_encoder.n), w_pos: weights_pos.reshape(n,6,pos_encoder.n), trigger_bias: trig_b, w_trig: trig_w})\n",
    "#out = sess.run(trigger_activation,{pos_nodes: pos_.reshape(n,6,pos_encoder.n), vel_nodes: vel_.reshape(n,6,pos_encoder.n,vel_encoder.n), id_nodes: behv_.reshape(1,4), w_pos: weights_pos.reshape(n,6,pos_encoder.n), w_vel: weights_vel.reshape(n,6,pos_encoder.n,vel_encoder.n), w_id: weights_behv, trigger_bias: trig_b, w_trig: trig_w})\n",
    "# Create a summary writer, add the 'graph' to the event file.\n",
    "#writer = tf.summary.FileWriter(\"tf_logs\", sess.graph)\n",
    "\n",
    "weights_pos_save = weights_pos[0].reshape(1,6,pos_encoder.n)\n",
    "trig_b_save = trig_b[0].reshape(1,6)\n",
    "trig_w_save = trig_w[0].reshape(1,6)\n",
    "neurons_save = {\"weights_pos\": weights_pos_save, \"trig_b\": trig_b_save, \"trig_w\": trig_w_save}\n",
    "\n",
    "pickle_out = open(\"neurons_pos.pickle\",\"wb\")\n",
    "pickle.dump(neurons_save, pickle_out)\n",
    "pickle_out.close()\n"
   ]
  },
  {
   "cell_type": "code",
   "execution_count": 7,
   "metadata": {},
   "outputs": [
    {
     "data": {
      "text/plain": [
       "array([ 1.,  1.,  1.,  0.,  0.,  0.,  0.,  0.,  0.,  0.,  0.,  0.,  0.,\n",
       "        0.,  0.,  0.,  0.,  0.,  0.,  0.,  0.,  0.,  0.,  0.,  0.,  0.,\n",
       "        0.,  0.,  0.,  0.,  0.,  0.,  0.,  0.,  0.,  0.,  0.,  0.,  0.,\n",
       "        0.,  0.,  0.,  0.,  0.,  0.,  0.,  0.,  0.,  0.,  0.,  0.,  0.,\n",
       "        0.,  0.,  0.,  0.,  0.,  0.,  0.,  0.,  0.,  1.,  1.,  1.,  1.,\n",
       "        0.,  0.,  0.,  0.,  0.,  0.,  0.,  0.,  0.,  0.,  0.,  0.,  0.,\n",
       "        0.,  0.,  0.,  0.,  0.,  0.,  0.,  0.,  0.,  0.,  0.,  0.,  0.,\n",
       "        0.,  0.,  0.,  0.,  0.,  0.,  0.,  0.,  0.,  0.,  0.,  0.,  0.,\n",
       "        0.,  0.,  0.,  0.,  0.,  0.,  0.,  0.,  0.,  0.,  0.,  0.,  0.,\n",
       "        0.,  0.,  0.,  0.,  0.,  0.,  0.,  1.,  1.,  1.,  1.], dtype=float32)"
      ]
     },
     "execution_count": 7,
     "metadata": {},
     "output_type": "execute_result"
    }
   ],
   "source": [
    "out"
   ]
  },
  {
   "cell_type": "markdown",
   "metadata": {},
   "source": [
    "### Position and velocity"
   ]
  },
  {
   "cell_type": "code",
   "execution_count": 75,
   "metadata": {},
   "outputs": [],
   "source": [
    "pos_encoder = scalar_sdr(31,2,-100000.0,100000.0,shape=(6,1),neg=False)\n",
    "vel_encoder = scalar_sdr(3,1,-70.0,70.0,shape=(6,1),neg=False)\n",
    "#brain_encoder = scalar_sdr(4,1,0.,1.,neg=False)\n",
    "\n",
    "weights_pos = np.zeros((6,pos_encoder.n,1))\n",
    "weights_vel = np.ones((6,pos_encoder.n,vel_encoder.n))\n",
    "#weights_behv = np.zeros((6,pos_encoder.n,vel_encoder.n,brain_encoder.n))-1\n",
    "\n",
    "for i in range(len(active_motors)):\n",
    "    for id_ in bases:\n",
    "        # for each trigger position, create weights which will pass matching input through, and ignore others\n",
    "        pos = bases[id_][0][ts[id_]][active_motors[i]]\n",
    "        index_pos = int((pos-pos_encoder.min)/(pos_encoder.max-pos_encoder.min)*pos_encoder.b)\n",
    "        weights_pos[i,index_pos:index_pos+pos_encoder.w] = 1\n",
    "       \n",
    "        # for each trigger position weight which passes a signal through, create weights for the velocity input such that \n",
    "        # the weights inhibit the position connection when the velocity does not match\n",
    "        vel = bases[id_][1][ts[id_]][active_motors[i]]\n",
    "        index_vel = int((vel-vel_encoder.min)/(vel_encoder.max-vel_encoder.min)*vel_encoder.b)\n",
    "        weights_vel[i,index_pos:index_pos+pos_encoder.w,index_vel:index_vel+vel_encoder.w] = 0\n",
    "        \n",
    "        # for each velocity connection, inhibit velocity connections that do not match the current states brain id\n",
    "        #brain = id_to_int[id_]\n",
    "        #weights_behv[i,index_pos,index_vel,brain] = 0"
   ]
  },
  {
   "cell_type": "code",
   "execution_count": 76,
   "metadata": {},
   "outputs": [],
   "source": [
    "id_ = 'fb'\n",
    "index = ts[id_]\n",
    "n = bases[id_][0].shape[0]\n",
    "\n",
    "pos_ = []\n",
    "vel_ = []\n",
    "\n",
    "for i in range(n):\n",
    "    pos_.append(pos_encoder.encode_ndarray(bases[id_][0][i][active_motors].reshape(6,1)).reshape(6,pos_encoder.n))\n",
    "    vel_.append(vel_encoder.encode_ndarray(bases[id_][1][i][active_motors].reshape(6,1)).reshape(6,vel_encoder.n))\n",
    "pos_ = np.array(pos_)\n",
    "vel_ = np.array(vel_)\n",
    "\n",
    "trig_b = np.ones((n,6))\n",
    "trig_w = np.zeros((n,6))-0.99999\n",
    "\n",
    "a = np.zeros((n,6,pos_encoder.n,vel_encoder.n))\n",
    "for k in range(n):\n",
    "    for i in range(6):\n",
    "        for j in range(pos_encoder.n):\n",
    "            a[k][i][j] = vel_[k][i].reshape(vel_encoder.n)\n",
    "            \n",
    "vel_ = a"
   ]
  },
  {
   "cell_type": "code",
   "execution_count": 77,
   "metadata": {},
   "outputs": [],
   "source": [
    "weights_pos = list(weights_pos.reshape(1,6,pos_encoder.n,1))\n",
    "weights_pos = np.array(weights_pos*n)\n",
    "\n",
    "weights_vel = list(weights_vel.reshape(1,6,pos_encoder.n,vel_encoder.n))\n",
    "weights_vel = np.array(weights_vel*n)"
   ]
  },
  {
   "cell_type": "code",
   "execution_count": 78,
   "metadata": {},
   "outputs": [
    {
     "name": "stdout",
     "output_type": "stream",
     "text": [
      "(128, 6, 32) (128, 6, 32, 5) (128, 6, 32) (128, 6, 32, 5) (128, 6) (128, 6)\n"
     ]
    }
   ],
   "source": [
    "with tf.name_scope(\"input\"):\n",
    "    pos_nodes = tf.placeholder(tf.float32, [None,6,pos_encoder.n], name=\"motor_pos\")\n",
    "    vel_nodes = tf.placeholder(tf.float32, [None,6,pos_encoder.n,vel_encoder.n], name=\"motor_vel\")\n",
    "    trigger_bias = tf.placeholder(tf.float32, [None,6], name = \"trigger_bias\")\n",
    "\n",
    "with tf.name_scope(\"weights\"):\n",
    "    w_pos = tf.placeholder(tf.float32, [None,6,pos_encoder.n], name=\"pos_weights\")\n",
    "    w_vel = tf.placeholder(tf.float32, [None,6,pos_encoder.n,vel_encoder.n], name=\"vel_weights\")\n",
    "    w_trig = tf.placeholder(tf.float32, [None,6], name = \"trigger_weights\")\n",
    "\n",
    "with tf.name_scope(\"trigger\"):\n",
    "    vel_input = tf.multiply(w_vel,vel_nodes)\n",
    "    vel_inhibitor = tf.reduce_sum(tf.nn.relu(tf.sign(vel_input)),axis=3)\n",
    "    pos_input = tf.multiply(pos_nodes,w_pos)\n",
    "    motor_sum = pos_input + vel_inhibitor*-1\n",
    "    motor_activation = tf.nn.relu(tf.sign(motor_sum))\n",
    "    trigger_sum_0 = tf.reduce_sum(motor_activation, axis = 2)\n",
    "    bias = tf.multiply(trigger_bias,w_trig)\n",
    "    trigger_sum_1 = tf.reduce_sum(trigger_sum_0 + bias,axis=1)\n",
    "    trigger_activation = tf.nn.relu(tf.sign(trigger_sum_1))\n",
    "\n",
    "sess = tf.Session()\n",
    "init = tf.global_variables_initializer()\n",
    "sess.run(init)\n",
    "print pos_.reshape(n,6,pos_encoder.n).shape, vel_.reshape(n,6,pos_encoder.n,vel_encoder.n).shape, weights_pos.reshape(n,6,pos_encoder.n).shape, weights_vel.reshape(n,6,pos_encoder.n,vel_encoder.n).shape, trig_b.shape,trig_w.shape\n",
    "out = sess.run(trigger_activation,{pos_nodes: pos_.reshape(n,6,pos_encoder.n), vel_nodes: vel_.reshape(n,6,pos_encoder.n,vel_encoder.n), w_pos: weights_pos.reshape(n,6,pos_encoder.n), w_vel: weights_vel.reshape(n,6,pos_encoder.n,vel_encoder.n), trigger_bias: trig_b, w_trig: trig_w})\n",
    "#out = sess.run(trigger_activation,{pos_nodes: pos_.reshape(n,6,pos_encoder.n), vel_nodes: vel_.reshape(n,6,pos_encoder.n,vel_encoder.n), id_nodes: behv_.reshape(1,4), w_pos: weights_pos.reshape(n,6,pos_encoder.n), w_vel: weights_vel.reshape(n,6,pos_encoder.n,vel_encoder.n), w_id: weights_behv, trigger_bias: trig_b, w_trig: trig_w})\n",
    "# Create a summary writer, add the 'graph' to the event file.\n",
    "writer = tf.summary.FileWriter(\"tf_logs\", sess.graph)"
   ]
  },
  {
   "cell_type": "code",
   "execution_count": 79,
   "metadata": {},
   "outputs": [
    {
     "data": {
      "text/plain": [
       "''"
      ]
     },
     "execution_count": 79,
     "metadata": {},
     "output_type": "execute_result"
    }
   ],
   "source": [
    "'''\n",
    "weights_pos_save = weights_pos[0].reshape(1,6,pos_encoder.n)\n",
    "weights_vel_save = weights_vel[0].reshape(1,6,pos_encoder.n,vel_encoder.n)\n",
    "trig_b_save = trig_b[0].reshape(1,6)\n",
    "trig_w_save = trig_w[0].reshape(1,6)\n",
    "neurons_save = {\"weights_pos\": weights_pos_save, \"weights_vel\": weights_vel_save, \"trig_b\": trig_b_save, \"trig_w\": trig_w_save}\n",
    "'''\n",
    "''"
   ]
  },
  {
   "cell_type": "code",
   "execution_count": 80,
   "metadata": {},
   "outputs": [
    {
     "data": {
      "text/plain": [
       "''"
      ]
     },
     "execution_count": 80,
     "metadata": {},
     "output_type": "execute_result"
    }
   ],
   "source": [
    "'''\n",
    "pickle_out = open(\"neurons.pickle\",\"wb\")\n",
    "pickle.dump(neurons_save, pickle_out)\n",
    "pickle_out.close()\n",
    "'''\n",
    "''"
   ]
  },
  {
   "cell_type": "code",
   "execution_count": 81,
   "metadata": {},
   "outputs": [
    {
     "data": {
      "text/plain": [
       "array([ 0.,  0.,  0.,  0.,  0.,  0.,  0.,  0.,  0.,  0.,  0.,  0.,  0.,\n",
       "        0.,  0.,  0.,  0.,  0.,  0.,  0.,  0.,  0.,  0.,  0.,  0.,  0.,\n",
       "        0.,  0.,  0.,  0.,  0.,  0.,  0.,  0.,  0.,  0.,  0.,  0.,  0.,\n",
       "        0.,  0.,  0.,  0.,  0.,  0.,  0.,  0.,  0.,  0.,  0.,  0.,  0.,\n",
       "        0.,  0.,  0.,  0.,  0.,  0.,  0.,  0.,  0.,  0.,  0.,  0.,  0.,\n",
       "        0.,  0.,  0.,  0.,  0.,  0.,  0.,  0.,  0.,  0.,  0.,  0.,  0.,\n",
       "        0.,  0.,  0.,  0.,  0.,  0.,  0.,  0.,  0.,  0.,  0.,  0.,  0.,\n",
       "        0.,  0.,  0.,  0.,  0.,  0.,  0.,  0.,  0.,  0.,  0.,  0.,  0.,\n",
       "        0.,  0.,  0.,  0.,  0.,  0.,  0.,  0.,  0.,  0.,  0.,  0.,  0.,\n",
       "        0.,  0.,  0.,  0.,  0.,  1.,  1.,  1.,  1.,  1.,  0.], dtype=float32)"
      ]
     },
     "execution_count": 81,
     "metadata": {},
     "output_type": "execute_result"
    }
   ],
   "source": [
    "out"
   ]
  },
  {
   "cell_type": "markdown",
   "metadata": {},
   "source": [
    "### Seperate position/velocity for each behavior"
   ]
  },
  {
   "cell_type": "code",
   "execution_count": 146,
   "metadata": {},
   "outputs": [],
   "source": [
    "behvs = {}\n",
    "for id_ in bases:\n",
    "    behvs[id_] = {}\n",
    "\n",
    "pos_encoder = scalar_sdr(31,2,-100000.0,100000.0,shape=(6,1),neg=False)\n",
    "vel_encoder = scalar_sdr(5,1,-70.0,70.0,shape=(6,1),neg=False)\n",
    "\n",
    "for id_ in behvs:\n",
    "    \n",
    "    n = bases[id_][0].shape[0]\n",
    "    #n = 1\n",
    "    \n",
    "    weights_pos = np.zeros((6,pos_encoder.n,1))\n",
    "    weights_vel = np.ones((6,pos_encoder.n,vel_encoder.n))\n",
    "\n",
    "    for i in range(len(active_motors)):\n",
    "                # for each trigger position, create weights which will pass matching input through, and ignore others\n",
    "                pos = bases[id_][0][ts[id_]][active_motors[i]]\n",
    "                index_pos = int((pos-pos_encoder.min)/(pos_encoder.max-pos_encoder.min)*pos_encoder.b)\n",
    "                weights_pos[i,index_pos:index_pos+pos_encoder.w] = 1\n",
    "\n",
    "                # for each trigger position weight which passes a signal through, create weights for the velocity input such that \n",
    "                # the weights inhibit the position connection when the velocity does not match\n",
    "                vel = bases[id_][1][ts[id_]][active_motors[i]]\n",
    "                index_vel = int((vel-vel_encoder.min)/(vel_encoder.max-vel_encoder.min)*vel_encoder.b)\n",
    "                weights_vel[i,index_pos:index_pos+pos_encoder.w,index_vel:index_vel+vel_encoder.w] = 0\n",
    "\n",
    "    weights_pos = list(weights_pos.reshape(1,6,pos_encoder.n,1))\n",
    "    weights_pos = np.array(weights_pos*n)\n",
    "\n",
    "    weights_vel = list(weights_vel.reshape(1,6,pos_encoder.n,vel_encoder.n))\n",
    "    weights_vel = np.array(weights_vel*n)\n",
    "    \n",
    "    trig_b = np.ones((n,6))\n",
    "    trig_w = np.zeros((n,6))-0.99999\n",
    "    \n",
    "    behvs[id_][\"weights_pos\"] = weights_pos\n",
    "    behvs[id_][\"weights_vel\"] = weights_vel\n",
    "    behvs[id_][\"trig_b\"] = trig_b\n",
    "    behvs[id_][\"trig_w\"] = trig_w\n",
    "    "
   ]
  },
  {
   "cell_type": "code",
   "execution_count": 143,
   "metadata": {},
   "outputs": [
    {
     "data": {
      "text/plain": [
       "''"
      ]
     },
     "execution_count": 143,
     "metadata": {},
     "output_type": "execute_result"
    }
   ],
   "source": [
    "'''\n",
    "neurons_save = behvs\n",
    "pickle_out = open(\"neurons_individual_behvs.pickle\",\"wb\")\n",
    "pickle.dump(neurons_save, pickle_out)\n",
    "pickle_out.close()\n",
    "'''\n",
    "''"
   ]
  },
  {
   "cell_type": "code",
   "execution_count": 148,
   "metadata": {},
   "outputs": [],
   "source": [
    "id_ = 'fb'\n",
    "n = bases[id_][0].shape[0]\n",
    "\n",
    "pos_ = []\n",
    "vel_ = []\n",
    "\n",
    "for i in range(n):\n",
    "    pos_.append(pos_encoder.encode_ndarray(bases[id_][0][i][active_motors].reshape(6,1)).reshape(6,pos_encoder.n))\n",
    "    vel_.append(vel_encoder.encode_ndarray(bases[id_][1][i][active_motors].reshape(6,1)).reshape(6,vel_encoder.n))\n",
    "pos_ = np.array(pos_)\n",
    "vel_ = np.array(vel_)\n",
    "\n",
    "a = np.zeros((n,6,pos_encoder.n,vel_encoder.n))\n",
    "for k in range(n):\n",
    "    for i in range(6):\n",
    "        for j in range(pos_encoder.n):\n",
    "            a[k][i][j] = vel_[k][i].reshape(vel_encoder.n)\n",
    "            \n",
    "vel_ = a"
   ]
  },
  {
   "cell_type": "code",
   "execution_count": 145,
   "metadata": {},
   "outputs": [
    {
     "ename": "InvalidArgumentError",
     "evalue": "Incompatible shapes: [128,6] vs. [122,6]\n\t [[Node: trigger_23/add_1 = Add[T=DT_FLOAT, _device=\"/job:localhost/replica:0/task:0/device:CPU:0\"](trigger_23/Sum_1, trigger_23/Mul_2)]]\n\nCaused by op u'trigger_23/add_1', defined at:\n  File \"/usr/lib/python2.7/runpy.py\", line 174, in _run_module_as_main\n    \"__main__\", fname, loader, pkg_name)\n  File \"/usr/lib/python2.7/runpy.py\", line 72, in _run_code\n    exec code in run_globals\n  File \"/usr/local/lib/python2.7/dist-packages/ipykernel_launcher.py\", line 16, in <module>\n    app.launch_new_instance()\n  File \"/usr/local/lib/python2.7/dist-packages/traitlets/config/application.py\", line 658, in launch_instance\n    app.start()\n  File \"/usr/local/lib/python2.7/dist-packages/ipykernel/kernelapp.py\", line 477, in start\n    ioloop.IOLoop.instance().start()\n  File \"/usr/lib/python2.7/dist-packages/zmq/eventloop/ioloop.py\", line 162, in start\n    super(ZMQIOLoop, self).start()\n  File \"/usr/lib/python2.7/dist-packages/tornado/ioloop.py\", line 866, in start\n    handler_func(fd_obj, events)\n  File \"/usr/lib/python2.7/dist-packages/tornado/stack_context.py\", line 275, in null_wrapper\n    return fn(*args, **kwargs)\n  File \"/usr/lib/python2.7/dist-packages/zmq/eventloop/zmqstream.py\", line 440, in _handle_events\n    self._handle_recv()\n  File \"/usr/lib/python2.7/dist-packages/zmq/eventloop/zmqstream.py\", line 472, in _handle_recv\n    self._run_callback(callback, msg)\n  File \"/usr/lib/python2.7/dist-packages/zmq/eventloop/zmqstream.py\", line 414, in _run_callback\n    callback(*args, **kwargs)\n  File \"/usr/lib/python2.7/dist-packages/tornado/stack_context.py\", line 275, in null_wrapper\n    return fn(*args, **kwargs)\n  File \"/usr/local/lib/python2.7/dist-packages/ipykernel/kernelbase.py\", line 283, in dispatcher\n    return self.dispatch_shell(stream, msg)\n  File \"/usr/local/lib/python2.7/dist-packages/ipykernel/kernelbase.py\", line 235, in dispatch_shell\n    handler(stream, idents, msg)\n  File \"/usr/local/lib/python2.7/dist-packages/ipykernel/kernelbase.py\", line 399, in execute_request\n    user_expressions, allow_stdin)\n  File \"/usr/local/lib/python2.7/dist-packages/ipykernel/ipkernel.py\", line 196, in do_execute\n    res = shell.run_cell(code, store_history=store_history, silent=silent)\n  File \"/usr/local/lib/python2.7/dist-packages/ipykernel/zmqshell.py\", line 533, in run_cell\n    return super(ZMQInteractiveShell, self).run_cell(*args, **kwargs)\n  File \"/usr/local/lib/python2.7/dist-packages/IPython/core/interactiveshell.py\", line 2718, in run_cell\n    interactivity=interactivity, compiler=compiler, result=result)\n  File \"/usr/local/lib/python2.7/dist-packages/IPython/core/interactiveshell.py\", line 2822, in run_ast_nodes\n    if self.run_code(code, result):\n  File \"/usr/local/lib/python2.7/dist-packages/IPython/core/interactiveshell.py\", line 2882, in run_code\n    exec(code_obj, self.user_global_ns, self.user_ns)\n  File \"<ipython-input-145-8874dc6265e0>\", line 19, in <module>\n    trigger_sum_1 = tf.reduce_sum(trigger_sum_0 + bias,axis=1)\n  File \"/usr/local/lib/python2.7/dist-packages/tensorflow/python/ops/math_ops.py\", line 894, in binary_op_wrapper\n    return func(x, y, name=name)\n  File \"/usr/local/lib/python2.7/dist-packages/tensorflow/python/ops/gen_math_ops.py\", line 183, in add\n    \"Add\", x=x, y=y, name=name)\n  File \"/usr/local/lib/python2.7/dist-packages/tensorflow/python/framework/op_def_library.py\", line 787, in _apply_op_helper\n    op_def=op_def)\n  File \"/usr/local/lib/python2.7/dist-packages/tensorflow/python/framework/ops.py\", line 2956, in create_op\n    op_def=op_def)\n  File \"/usr/local/lib/python2.7/dist-packages/tensorflow/python/framework/ops.py\", line 1470, in __init__\n    self._traceback = self._graph._extract_stack()  # pylint: disable=protected-access\n\nInvalidArgumentError (see above for traceback): Incompatible shapes: [128,6] vs. [122,6]\n\t [[Node: trigger_23/add_1 = Add[T=DT_FLOAT, _device=\"/job:localhost/replica:0/task:0/device:CPU:0\"](trigger_23/Sum_1, trigger_23/Mul_2)]]\n",
     "output_type": "error",
     "traceback": [
      "\u001b[0;31m---------------------------------------------------------------------------\u001b[0m",
      "\u001b[0;31mInvalidArgumentError\u001b[0m                      Traceback (most recent call last)",
      "\u001b[0;32m<ipython-input-145-8874dc6265e0>\u001b[0m in \u001b[0;36m<module>\u001b[0;34m()\u001b[0m\n\u001b[1;32m     23\u001b[0m \u001b[0minit\u001b[0m \u001b[0;34m=\u001b[0m \u001b[0mtf\u001b[0m\u001b[0;34m.\u001b[0m\u001b[0mglobal_variables_initializer\u001b[0m\u001b[0;34m(\u001b[0m\u001b[0;34m)\u001b[0m\u001b[0;34m\u001b[0m\u001b[0m\n\u001b[1;32m     24\u001b[0m \u001b[0msess\u001b[0m\u001b[0;34m.\u001b[0m\u001b[0mrun\u001b[0m\u001b[0;34m(\u001b[0m\u001b[0minit\u001b[0m\u001b[0;34m)\u001b[0m\u001b[0;34m\u001b[0m\u001b[0m\n\u001b[0;32m---> 25\u001b[0;31m \u001b[0mout\u001b[0m \u001b[0;34m=\u001b[0m \u001b[0msess\u001b[0m\u001b[0;34m.\u001b[0m\u001b[0mrun\u001b[0m\u001b[0;34m(\u001b[0m\u001b[0mtrigger_activation\u001b[0m\u001b[0;34m,\u001b[0m\u001b[0;34m{\u001b[0m\u001b[0mpos_nodes\u001b[0m\u001b[0;34m:\u001b[0m \u001b[0mpos_\u001b[0m\u001b[0;34m.\u001b[0m\u001b[0mreshape\u001b[0m\u001b[0;34m(\u001b[0m\u001b[0mn\u001b[0m\u001b[0;34m,\u001b[0m\u001b[0;36m6\u001b[0m\u001b[0;34m,\u001b[0m\u001b[0mpos_encoder\u001b[0m\u001b[0;34m.\u001b[0m\u001b[0mn\u001b[0m\u001b[0;34m)\u001b[0m\u001b[0;34m,\u001b[0m \u001b[0mvel_nodes\u001b[0m\u001b[0;34m:\u001b[0m \u001b[0mvel_\u001b[0m\u001b[0;34m.\u001b[0m\u001b[0mreshape\u001b[0m\u001b[0;34m(\u001b[0m\u001b[0mn\u001b[0m\u001b[0;34m,\u001b[0m\u001b[0;36m6\u001b[0m\u001b[0;34m,\u001b[0m\u001b[0mpos_encoder\u001b[0m\u001b[0;34m.\u001b[0m\u001b[0mn\u001b[0m\u001b[0;34m,\u001b[0m\u001b[0mvel_encoder\u001b[0m\u001b[0;34m.\u001b[0m\u001b[0mn\u001b[0m\u001b[0;34m)\u001b[0m\u001b[0;34m,\u001b[0m \u001b[0mw_pos\u001b[0m\u001b[0;34m:\u001b[0m \u001b[0mbehvs\u001b[0m\u001b[0;34m[\u001b[0m\u001b[0mid_\u001b[0m\u001b[0;34m]\u001b[0m\u001b[0;34m[\u001b[0m\u001b[0;34m\"weights_pos\"\u001b[0m\u001b[0;34m]\u001b[0m\u001b[0;34m.\u001b[0m\u001b[0mreshape\u001b[0m\u001b[0;34m(\u001b[0m\u001b[0mn\u001b[0m\u001b[0;34m,\u001b[0m\u001b[0;36m6\u001b[0m\u001b[0;34m,\u001b[0m\u001b[0mpos_encoder\u001b[0m\u001b[0;34m.\u001b[0m\u001b[0mn\u001b[0m\u001b[0;34m)\u001b[0m\u001b[0;34m,\u001b[0m \u001b[0mw_vel\u001b[0m\u001b[0;34m:\u001b[0m \u001b[0mbehvs\u001b[0m\u001b[0;34m[\u001b[0m\u001b[0mid_\u001b[0m\u001b[0;34m]\u001b[0m\u001b[0;34m[\u001b[0m\u001b[0;34m\"weights_vel\"\u001b[0m\u001b[0;34m]\u001b[0m\u001b[0;34m.\u001b[0m\u001b[0mreshape\u001b[0m\u001b[0;34m(\u001b[0m\u001b[0mn\u001b[0m\u001b[0;34m,\u001b[0m\u001b[0;36m6\u001b[0m\u001b[0;34m,\u001b[0m\u001b[0mpos_encoder\u001b[0m\u001b[0;34m.\u001b[0m\u001b[0mn\u001b[0m\u001b[0;34m,\u001b[0m\u001b[0mvel_encoder\u001b[0m\u001b[0;34m.\u001b[0m\u001b[0mn\u001b[0m\u001b[0;34m)\u001b[0m\u001b[0;34m,\u001b[0m \u001b[0mtrigger_bias\u001b[0m\u001b[0;34m:\u001b[0m \u001b[0mtrig_b\u001b[0m\u001b[0;34m,\u001b[0m \u001b[0mw_trig\u001b[0m\u001b[0;34m:\u001b[0m \u001b[0mtrig_w\u001b[0m\u001b[0;34m}\u001b[0m\u001b[0;34m)\u001b[0m\u001b[0;34m\u001b[0m\u001b[0m\n\u001b[0m\u001b[1;32m     26\u001b[0m \u001b[0;31m#out = sess.run(trigger_activation,{pos_nodes: pos_.reshape(n,6,pos_encoder.n), vel_nodes: vel_.reshape(n,6,pos_encoder.n,vel_encoder.n), id_nodes: behv_.reshape(1,4), w_pos: weights_pos.reshape(n,6,pos_encoder.n), w_vel: weights_vel.reshape(n,6,pos_encoder.n,vel_encoder.n), w_id: weights_behv, trigger_bias: trig_b, w_trig: trig_w})\u001b[0m\u001b[0;34m\u001b[0m\u001b[0;34m\u001b[0m\u001b[0m\n\u001b[1;32m     27\u001b[0m \u001b[0;31m# Create a summary writer, add the 'graph' to the event file.\u001b[0m\u001b[0;34m\u001b[0m\u001b[0;34m\u001b[0m\u001b[0m\n",
      "\u001b[0;32m/usr/local/lib/python2.7/dist-packages/tensorflow/python/client/session.pyc\u001b[0m in \u001b[0;36mrun\u001b[0;34m(self, fetches, feed_dict, options, run_metadata)\u001b[0m\n\u001b[1;32m    887\u001b[0m     \u001b[0;32mtry\u001b[0m\u001b[0;34m:\u001b[0m\u001b[0;34m\u001b[0m\u001b[0m\n\u001b[1;32m    888\u001b[0m       result = self._run(None, fetches, feed_dict, options_ptr,\n\u001b[0;32m--> 889\u001b[0;31m                          run_metadata_ptr)\n\u001b[0m\u001b[1;32m    890\u001b[0m       \u001b[0;32mif\u001b[0m \u001b[0mrun_metadata\u001b[0m\u001b[0;34m:\u001b[0m\u001b[0;34m\u001b[0m\u001b[0m\n\u001b[1;32m    891\u001b[0m         \u001b[0mproto_data\u001b[0m \u001b[0;34m=\u001b[0m \u001b[0mtf_session\u001b[0m\u001b[0;34m.\u001b[0m\u001b[0mTF_GetBuffer\u001b[0m\u001b[0;34m(\u001b[0m\u001b[0mrun_metadata_ptr\u001b[0m\u001b[0;34m)\u001b[0m\u001b[0;34m\u001b[0m\u001b[0m\n",
      "\u001b[0;32m/usr/local/lib/python2.7/dist-packages/tensorflow/python/client/session.pyc\u001b[0m in \u001b[0;36m_run\u001b[0;34m(self, handle, fetches, feed_dict, options, run_metadata)\u001b[0m\n\u001b[1;32m   1118\u001b[0m     \u001b[0;32mif\u001b[0m \u001b[0mfinal_fetches\u001b[0m \u001b[0;32mor\u001b[0m \u001b[0mfinal_targets\u001b[0m \u001b[0;32mor\u001b[0m \u001b[0;34m(\u001b[0m\u001b[0mhandle\u001b[0m \u001b[0;32mand\u001b[0m \u001b[0mfeed_dict_tensor\u001b[0m\u001b[0;34m)\u001b[0m\u001b[0;34m:\u001b[0m\u001b[0;34m\u001b[0m\u001b[0m\n\u001b[1;32m   1119\u001b[0m       results = self._do_run(handle, final_targets, final_fetches,\n\u001b[0;32m-> 1120\u001b[0;31m                              feed_dict_tensor, options, run_metadata)\n\u001b[0m\u001b[1;32m   1121\u001b[0m     \u001b[0;32melse\u001b[0m\u001b[0;34m:\u001b[0m\u001b[0;34m\u001b[0m\u001b[0m\n\u001b[1;32m   1122\u001b[0m       \u001b[0mresults\u001b[0m \u001b[0;34m=\u001b[0m \u001b[0;34m[\u001b[0m\u001b[0;34m]\u001b[0m\u001b[0;34m\u001b[0m\u001b[0m\n",
      "\u001b[0;32m/usr/local/lib/python2.7/dist-packages/tensorflow/python/client/session.pyc\u001b[0m in \u001b[0;36m_do_run\u001b[0;34m(self, handle, target_list, fetch_list, feed_dict, options, run_metadata)\u001b[0m\n\u001b[1;32m   1315\u001b[0m     \u001b[0;32mif\u001b[0m \u001b[0mhandle\u001b[0m \u001b[0;32mis\u001b[0m \u001b[0mNone\u001b[0m\u001b[0;34m:\u001b[0m\u001b[0;34m\u001b[0m\u001b[0m\n\u001b[1;32m   1316\u001b[0m       return self._do_call(_run_fn, self._session, feeds, fetches, targets,\n\u001b[0;32m-> 1317\u001b[0;31m                            options, run_metadata)\n\u001b[0m\u001b[1;32m   1318\u001b[0m     \u001b[0;32melse\u001b[0m\u001b[0;34m:\u001b[0m\u001b[0;34m\u001b[0m\u001b[0m\n\u001b[1;32m   1319\u001b[0m       \u001b[0;32mreturn\u001b[0m \u001b[0mself\u001b[0m\u001b[0;34m.\u001b[0m\u001b[0m_do_call\u001b[0m\u001b[0;34m(\u001b[0m\u001b[0m_prun_fn\u001b[0m\u001b[0;34m,\u001b[0m \u001b[0mself\u001b[0m\u001b[0;34m.\u001b[0m\u001b[0m_session\u001b[0m\u001b[0;34m,\u001b[0m \u001b[0mhandle\u001b[0m\u001b[0;34m,\u001b[0m \u001b[0mfeeds\u001b[0m\u001b[0;34m,\u001b[0m \u001b[0mfetches\u001b[0m\u001b[0;34m)\u001b[0m\u001b[0;34m\u001b[0m\u001b[0m\n",
      "\u001b[0;32m/usr/local/lib/python2.7/dist-packages/tensorflow/python/client/session.pyc\u001b[0m in \u001b[0;36m_do_call\u001b[0;34m(self, fn, *args)\u001b[0m\n\u001b[1;32m   1334\u001b[0m         \u001b[0;32mexcept\u001b[0m \u001b[0mKeyError\u001b[0m\u001b[0;34m:\u001b[0m\u001b[0;34m\u001b[0m\u001b[0m\n\u001b[1;32m   1335\u001b[0m           \u001b[0;32mpass\u001b[0m\u001b[0;34m\u001b[0m\u001b[0m\n\u001b[0;32m-> 1336\u001b[0;31m       \u001b[0;32mraise\u001b[0m \u001b[0mtype\u001b[0m\u001b[0;34m(\u001b[0m\u001b[0me\u001b[0m\u001b[0;34m)\u001b[0m\u001b[0;34m(\u001b[0m\u001b[0mnode_def\u001b[0m\u001b[0;34m,\u001b[0m \u001b[0mop\u001b[0m\u001b[0;34m,\u001b[0m \u001b[0mmessage\u001b[0m\u001b[0;34m)\u001b[0m\u001b[0;34m\u001b[0m\u001b[0m\n\u001b[0m\u001b[1;32m   1337\u001b[0m \u001b[0;34m\u001b[0m\u001b[0m\n\u001b[1;32m   1338\u001b[0m   \u001b[0;32mdef\u001b[0m \u001b[0m_extend_graph\u001b[0m\u001b[0;34m(\u001b[0m\u001b[0mself\u001b[0m\u001b[0;34m)\u001b[0m\u001b[0;34m:\u001b[0m\u001b[0;34m\u001b[0m\u001b[0m\n",
      "\u001b[0;31mInvalidArgumentError\u001b[0m: Incompatible shapes: [128,6] vs. [122,6]\n\t [[Node: trigger_23/add_1 = Add[T=DT_FLOAT, _device=\"/job:localhost/replica:0/task:0/device:CPU:0\"](trigger_23/Sum_1, trigger_23/Mul_2)]]\n\nCaused by op u'trigger_23/add_1', defined at:\n  File \"/usr/lib/python2.7/runpy.py\", line 174, in _run_module_as_main\n    \"__main__\", fname, loader, pkg_name)\n  File \"/usr/lib/python2.7/runpy.py\", line 72, in _run_code\n    exec code in run_globals\n  File \"/usr/local/lib/python2.7/dist-packages/ipykernel_launcher.py\", line 16, in <module>\n    app.launch_new_instance()\n  File \"/usr/local/lib/python2.7/dist-packages/traitlets/config/application.py\", line 658, in launch_instance\n    app.start()\n  File \"/usr/local/lib/python2.7/dist-packages/ipykernel/kernelapp.py\", line 477, in start\n    ioloop.IOLoop.instance().start()\n  File \"/usr/lib/python2.7/dist-packages/zmq/eventloop/ioloop.py\", line 162, in start\n    super(ZMQIOLoop, self).start()\n  File \"/usr/lib/python2.7/dist-packages/tornado/ioloop.py\", line 866, in start\n    handler_func(fd_obj, events)\n  File \"/usr/lib/python2.7/dist-packages/tornado/stack_context.py\", line 275, in null_wrapper\n    return fn(*args, **kwargs)\n  File \"/usr/lib/python2.7/dist-packages/zmq/eventloop/zmqstream.py\", line 440, in _handle_events\n    self._handle_recv()\n  File \"/usr/lib/python2.7/dist-packages/zmq/eventloop/zmqstream.py\", line 472, in _handle_recv\n    self._run_callback(callback, msg)\n  File \"/usr/lib/python2.7/dist-packages/zmq/eventloop/zmqstream.py\", line 414, in _run_callback\n    callback(*args, **kwargs)\n  File \"/usr/lib/python2.7/dist-packages/tornado/stack_context.py\", line 275, in null_wrapper\n    return fn(*args, **kwargs)\n  File \"/usr/local/lib/python2.7/dist-packages/ipykernel/kernelbase.py\", line 283, in dispatcher\n    return self.dispatch_shell(stream, msg)\n  File \"/usr/local/lib/python2.7/dist-packages/ipykernel/kernelbase.py\", line 235, in dispatch_shell\n    handler(stream, idents, msg)\n  File \"/usr/local/lib/python2.7/dist-packages/ipykernel/kernelbase.py\", line 399, in execute_request\n    user_expressions, allow_stdin)\n  File \"/usr/local/lib/python2.7/dist-packages/ipykernel/ipkernel.py\", line 196, in do_execute\n    res = shell.run_cell(code, store_history=store_history, silent=silent)\n  File \"/usr/local/lib/python2.7/dist-packages/ipykernel/zmqshell.py\", line 533, in run_cell\n    return super(ZMQInteractiveShell, self).run_cell(*args, **kwargs)\n  File \"/usr/local/lib/python2.7/dist-packages/IPython/core/interactiveshell.py\", line 2718, in run_cell\n    interactivity=interactivity, compiler=compiler, result=result)\n  File \"/usr/local/lib/python2.7/dist-packages/IPython/core/interactiveshell.py\", line 2822, in run_ast_nodes\n    if self.run_code(code, result):\n  File \"/usr/local/lib/python2.7/dist-packages/IPython/core/interactiveshell.py\", line 2882, in run_code\n    exec(code_obj, self.user_global_ns, self.user_ns)\n  File \"<ipython-input-145-8874dc6265e0>\", line 19, in <module>\n    trigger_sum_1 = tf.reduce_sum(trigger_sum_0 + bias,axis=1)\n  File \"/usr/local/lib/python2.7/dist-packages/tensorflow/python/ops/math_ops.py\", line 894, in binary_op_wrapper\n    return func(x, y, name=name)\n  File \"/usr/local/lib/python2.7/dist-packages/tensorflow/python/ops/gen_math_ops.py\", line 183, in add\n    \"Add\", x=x, y=y, name=name)\n  File \"/usr/local/lib/python2.7/dist-packages/tensorflow/python/framework/op_def_library.py\", line 787, in _apply_op_helper\n    op_def=op_def)\n  File \"/usr/local/lib/python2.7/dist-packages/tensorflow/python/framework/ops.py\", line 2956, in create_op\n    op_def=op_def)\n  File \"/usr/local/lib/python2.7/dist-packages/tensorflow/python/framework/ops.py\", line 1470, in __init__\n    self._traceback = self._graph._extract_stack()  # pylint: disable=protected-access\n\nInvalidArgumentError (see above for traceback): Incompatible shapes: [128,6] vs. [122,6]\n\t [[Node: trigger_23/add_1 = Add[T=DT_FLOAT, _device=\"/job:localhost/replica:0/task:0/device:CPU:0\"](trigger_23/Sum_1, trigger_23/Mul_2)]]\n"
     ]
    }
   ],
   "source": [
    "with tf.name_scope(\"input\"):\n",
    "    pos_nodes = tf.placeholder(tf.float32, [None,6,pos_encoder.n], name=\"motor_pos\")\n",
    "    vel_nodes = tf.placeholder(tf.float32, [None,6,pos_encoder.n,vel_encoder.n], name=\"motor_vel\")\n",
    "    trigger_bias = tf.placeholder(tf.float32, [None,6], name = \"trigger_bias\")\n",
    "\n",
    "with tf.name_scope(\"weights\"):\n",
    "    w_pos = tf.placeholder(tf.float32, [None,6,pos_encoder.n], name=\"pos_weights\")\n",
    "    w_vel = tf.placeholder(tf.float32, [None,6,pos_encoder.n,vel_encoder.n], name=\"vel_weights\")\n",
    "    w_trig = tf.placeholder(tf.float32, [None,6], name = \"trigger_weights\")\n",
    "\n",
    "with tf.name_scope(\"trigger\"):\n",
    "    vel_input = tf.multiply(w_vel,vel_nodes)\n",
    "    vel_inhibitor = tf.reduce_sum(tf.nn.relu(tf.sign(vel_input)),axis=3)\n",
    "    pos_input = tf.multiply(pos_nodes,w_pos)\n",
    "    motor_sum = pos_input + vel_inhibitor*-1\n",
    "    motor_activation = tf.nn.relu(tf.sign(motor_sum))\n",
    "    trigger_sum_0 = tf.reduce_sum(motor_activation, axis = 2)\n",
    "    bias = tf.multiply(trigger_bias,w_trig)\n",
    "    trigger_sum_1 = tf.reduce_sum(trigger_sum_0 + bias,axis=1)\n",
    "    trigger_activation = tf.nn.relu(tf.sign(trigger_sum_1))\n",
    "\n",
    "sess = tf.Session()\n",
    "init = tf.global_variables_initializer()\n",
    "sess.run(init)\n",
    "out = sess.run(trigger_activation,{pos_nodes: pos_.reshape(n,6,pos_encoder.n), vel_nodes: vel_.reshape(n,6,pos_encoder.n,vel_encoder.n), w_pos: behvs[id_][\"weights_pos\"].reshape(n,6,pos_encoder.n), w_vel: behvs[id_][\"weights_vel\"].reshape(n,6,pos_encoder.n,vel_encoder.n), trigger_bias: trig_b, w_trig: trig_w})\n",
    "#out = sess.run(trigger_activation,{pos_nodes: pos_.reshape(n,6,pos_encoder.n), vel_nodes: vel_.reshape(n,6,pos_encoder.n,vel_encoder.n), id_nodes: behv_.reshape(1,4), w_pos: weights_pos.reshape(n,6,pos_encoder.n), w_vel: weights_vel.reshape(n,6,pos_encoder.n,vel_encoder.n), w_id: weights_behv, trigger_bias: trig_b, w_trig: trig_w})\n",
    "# Create a summary writer, add the 'graph' to the event file.\n",
    "#writer = tf.summary.FileWriter(\"tf_logs\", sess.graph)"
   ]
  },
  {
   "cell_type": "code",
   "execution_count": 133,
   "metadata": {},
   "outputs": [
    {
     "data": {
      "text/plain": [
       "array([ 0.,  0.,  0.,  0.,  0.,  0.,  0.,  0.,  0.,  0.,  0.,  0.,  0.,\n",
       "        0.,  0.,  0.,  0.,  0.,  0.,  0.,  0.,  0.,  0.,  0.,  0.,  0.,\n",
       "        0.,  0.,  0.,  0.,  0.,  0.,  0.,  0.,  0.,  0.,  0.,  0.,  0.,\n",
       "        0.,  0.,  0.,  0.,  0.,  0.,  0.,  0.,  0.,  0.,  0.,  0.,  0.,\n",
       "        0.,  0.,  0.,  0.,  0.,  0.,  0.,  0.,  0.,  0.,  0.,  0.,  0.,\n",
       "        0.,  0.,  0.,  0.,  0.,  0.,  0.,  0.,  0.,  0.,  0.,  0.,  0.,\n",
       "        0.,  0.,  0.,  0.,  0.,  0.,  0.,  0.,  0.,  0.,  0.,  0.,  0.,\n",
       "        0.,  0.,  0.,  0.,  0.,  0.,  0.,  0.,  0.,  0.,  0.,  0.,  0.,\n",
       "        0.,  0.,  0.,  0.,  0.,  0.,  0.,  0.,  0.,  0.,  0.,  0.,  0.,\n",
       "        0.,  0.,  0.,  0.,  0.,  1.,  1.,  1.,  1.,  1.,  0.], dtype=float32)"
      ]
     },
     "execution_count": 133,
     "metadata": {},
     "output_type": "execute_result"
    }
   ],
   "source": [
    "out"
   ]
  },
  {
   "cell_type": "markdown",
   "metadata": {},
   "source": [
    "### The idea"
   ]
  },
  {
   "cell_type": "code",
   "execution_count": 382,
   "metadata": {},
   "outputs": [
    {
     "ename": "NameError",
     "evalue": "name 'weights_behv' is not defined",
     "output_type": "error",
     "traceback": [
      "\u001b[0;31m---------------------------------------------------------------------------\u001b[0m",
      "\u001b[0;31mNameError\u001b[0m                                 Traceback (most recent call last)",
      "\u001b[0;32m<ipython-input-382-352856b97dfb>\u001b[0m in \u001b[0;36m<module>\u001b[0;34m()\u001b[0m\n\u001b[1;32m      1\u001b[0m \u001b[0;31m# this is it, but it doesn't make sense in terms of neuron connections\u001b[0m\u001b[0;34m\u001b[0m\u001b[0;34m\u001b[0m\u001b[0m\n\u001b[0;32m----> 2\u001b[0;31m \u001b[0ma\u001b[0m \u001b[0;34m=\u001b[0m \u001b[0mweights_behv\u001b[0m\u001b[0;34m[\u001b[0m\u001b[0;36m0\u001b[0m\u001b[0;34m]\u001b[0m\u001b[0;34m+\u001b[0m\u001b[0;36m1\u001b[0m\u001b[0;34m\u001b[0m\u001b[0m\n\u001b[0m\u001b[1;32m      3\u001b[0m \u001b[0mb\u001b[0m \u001b[0;34m=\u001b[0m \u001b[0mnp\u001b[0m\u001b[0;34m.\u001b[0m\u001b[0minner\u001b[0m\u001b[0;34m(\u001b[0m\u001b[0ma\u001b[0m\u001b[0;34m,\u001b[0m\u001b[0mbehv_\u001b[0m\u001b[0;34m[\u001b[0m\u001b[0;36m0\u001b[0m\u001b[0;34m]\u001b[0m\u001b[0;34m)\u001b[0m\u001b[0;34m\u001b[0m\u001b[0m\n\u001b[1;32m      4\u001b[0m \u001b[0mc\u001b[0m \u001b[0;34m=\u001b[0m \u001b[0;34m[\u001b[0m\u001b[0;34m]\u001b[0m\u001b[0;34m\u001b[0m\u001b[0m\n\u001b[1;32m      5\u001b[0m \u001b[0;32mfor\u001b[0m \u001b[0mi\u001b[0m \u001b[0;32min\u001b[0m \u001b[0mrange\u001b[0m\u001b[0;34m(\u001b[0m\u001b[0;36m6\u001b[0m\u001b[0;34m)\u001b[0m\u001b[0;34m:\u001b[0m\u001b[0;34m\u001b[0m\u001b[0m\n",
      "\u001b[0;31mNameError\u001b[0m: name 'weights_behv' is not defined"
     ]
    }
   ],
   "source": [
    "# this is it, but it doesn't make sense in terms of neuron connections\n",
    "a = weights_behv[0]+1\n",
    "b = np.inner(a,behv_[0])\n",
    "c = []\n",
    "for i in range(6):\n",
    "    x = b[i].dot(vel_[ts[id_]][i])\n",
    "    c.append(x)\n",
    "c = np.array(c)\n",
    "d = np.sum(c*pos_[ts[id_]],axis=1)\n",
    "d"
   ]
  },
  {
   "cell_type": "code",
   "execution_count": null,
   "metadata": {},
   "outputs": [],
   "source": []
  }
 ],
 "metadata": {
  "kernelspec": {
   "display_name": "Python 2",
   "language": "python",
   "name": "python2"
  },
  "language_info": {
   "codemirror_mode": {
    "name": "ipython",
    "version": 2
   },
   "file_extension": ".py",
   "mimetype": "text/x-python",
   "name": "python",
   "nbconvert_exporter": "python",
   "pygments_lexer": "ipython2",
   "version": "2.7.12"
  }
 },
 "nbformat": 4,
 "nbformat_minor": 2
}
