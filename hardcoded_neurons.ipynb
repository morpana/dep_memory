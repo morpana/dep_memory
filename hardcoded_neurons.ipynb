{
 "cells": [
  {
   "cell_type": "code",
   "execution_count": 26,
   "metadata": {
    "collapsed": true
   },
   "outputs": [],
   "source": [
    "import tensorflow as tf\n",
    "import numpy as np\n",
    "import pickle"
   ]
  },
  {
   "cell_type": "markdown",
   "metadata": {},
   "source": [
    "### Encoding"
   ]
  },
  {
   "cell_type": "code",
   "execution_count": 27,
   "metadata": {
    "collapsed": true
   },
   "outputs": [],
   "source": [
    "# HTM SDR Scalar Encoder\n",
    "# Input: Scalar\n",
    "# Parameters: n - number of units, w - bits used to represent signal (width), b - buckets (i.e. resolution), \n",
    "#             min - minimum value of input (inclusive), max - maximum input value (inclusive)\n",
    "class scalar_sdr:\n",
    "    \n",
    "    def __init__(self, b, w, min_, max_, shape=(1,1), neg=True):\n",
    "        if type(b) != int or type(w) != int or type(min_) != float or type(max_) != float:\n",
    "            raise TypeError(\"b - buckets must be int, w - width must be int, min_ must be float and max_ must be float\")\n",
    "        self.b = b # must be int\n",
    "        self.w = w # must be int\n",
    "        self.min = min_ # must be float\n",
    "        self.max = max_ # must be float\n",
    "        self.n = b+w-1 # number of units for encoding\n",
    "        self.ndarray_shape = shape\n",
    "        self.nodes = self.n*reduce(lambda x, y: x*y, self.ndarray_shape)\n",
    "        self.neg = neg\n",
    "        \n",
    "    def encode(self,input_):\n",
    "        if input_ > self.max or input_ < self.min:\n",
    "            raise ValueError(\"Input outside encoder range!\")\n",
    "        if type(input_) != float:\n",
    "            raise TypeError(\"Input must be float!\")\n",
    "        if self.neg:\n",
    "            output = np.zeros(self.n)-1\n",
    "        else:\n",
    "            output = np.zeros(self.n)\n",
    "        index = int((input_-self.min)/(self.max-self.min)*self.b)\n",
    "        output[index:index+self.w] = 1\n",
    "        return output\n",
    "    \n",
    "    def encode_ndarray(self,input_):\n",
    "        if input_.shape != self.ndarray_shape:\n",
    "            raise ValueError(\"Input dimensions do not match specified encoder dimensions!\")\n",
    "        output = []\n",
    "        for i in np.nditer(input_, order='K'):\n",
    "            output.append(self.encode(float(i)))\n",
    "        return np.array(output)\n",
    "    '''\n",
    "    def decode(self,input_):\n",
    "        if len(input_) != self.n: # or len(np.nonzero(input_+1)[0]) != self.w: <-- Can't have since the network is not guaranteed to produce this by any means!!!\n",
    "            raise TypeError(\"Input does not correspond to encoder encoded data!\")\n",
    "        # output = np.nonzero(input_+1)[0][0]/float(self.b)*(self.max-self.min)+self.min <-- This doesn't work really since bits can randomly fire, taking the average is a more reasonable decoding\n",
    "        median = np.median(np.nonzero(input_+1)[0])            \n",
    "        try:\n",
    "            output = int(median-float(self.w)/2.0)/float(self.b)*(self.max-self.min)+self.min # i.e. figure out center (median more outlier resistant than mean) and subtract width/2\n",
    "        except ValueError:\n",
    "            output = None\n",
    "        return output\n",
    "    '''\n",
    "    def decode(self,input_):\n",
    "        if len(input_) != self.n: \n",
    "            raise TypeError(\"Input length does not match encoder length!\")\n",
    "        if len(np.nonzero(input_+1)[0]) == 0:\n",
    "            return np.nan\n",
    "        max_ = 0\n",
    "        output = 0.0\n",
    "        for i in range(self.b):\n",
    "            x = np.zeros(self.n)-1\n",
    "            x[i:i+self.w] = 1\n",
    "            if x.shape != input_.shape:\n",
    "                input_ = input_.reshape(x.shape)\n",
    "            score = np.inner(x,input_) # this was broken for some input formats \n",
    "            if score > max_:\n",
    "                max_ = score\n",
    "                output = float(i)/float(self.b)*(self.max-self.min)+self.min\n",
    "        return output\n",
    "            \n",
    "    def decode_ndarray(self,input_):\n",
    "        if input_.shape != (reduce(lambda x, y: x*y, self.ndarray_shape)*self.n,): \n",
    "            raise ValueError(\"Input dimensions do not match specified encoder dimensions!\")\n",
    "        input_ = input_.reshape(self.ndarray_shape+(self.n,))\n",
    "        output = []\n",
    "        for i in np.ndindex(self.ndarray_shape):\n",
    "            output.append(self.decode(input_[i]))\n",
    "        output = np.array(output).reshape(self.ndarray_shape)\n",
    "        return output\n",
    "    \n",
    "    def set_ndarray_shape(self,shape):\n",
    "        if type(shape) != tuple:\n",
    "            raise TypeError(\"Must provide tuple of array dimensions!\")\n",
    "        self.ndarray_shape = shape"
   ]
  },
  {
   "cell_type": "markdown",
   "metadata": {},
   "source": [
    "### Behavior data"
   ]
  },
  {
   "cell_type": "code",
   "execution_count": 28,
   "metadata": {
    "collapsed": true
   },
   "outputs": [],
   "source": [
    "fb = pickle.load(open(\"/home/roboy/dep/dep_data/bases/fb.pickle\",\"rb\"))\n",
    "fs = pickle.load(open(\"/home/roboy/dep/dep_data/bases/fs.pickle\",\"rb\"))\n",
    "sd = pickle.load(open(\"/home/roboy/dep/dep_data/bases/sd.pickle\", \"rb\"))\n",
    "zero = [np.zeros(fb[0].shape),np.zeros(fb[1].shape), np.zeros(fb[2].shape)]\n",
    "\n",
    "\n",
    "bases = {\"fb\": fb, \"fs\": fs, \"sd\": sd, \"zero\": zero}"
   ]
  },
  {
   "cell_type": "code",
   "execution_count": 39,
   "metadata": {},
   "outputs": [],
   "source": [
    "import matplotlib.pyplot as plt"
   ]
  },
  {
   "cell_type": "code",
   "execution_count": 41,
   "metadata": {},
   "outputs": [
    {
     "data": {
      "image/png": "[encoded data removed]",
      "text/plain": [
       "<matplotlib.figure.Figure at 0x7fe73b9f3890>"
      ]
     },
     "metadata": {},
     "output_type": "display_data"
    }
   ],
   "source": [
    "plt.figure(1)\n",
    "plt.plot(fb[0])\n",
    "plt.show()"
   ]
  },
  {
   "cell_type": "code",
   "execution_count": 29,
   "metadata": {
    "collapsed": true
   },
   "outputs": [],
   "source": [
    "behaviors = [\"zero\",\"fb\",\"fs\",\"sd\"]\n",
    "n = len(behaviors)\n",
    "start = 0.0\n",
    "width = 1.0/float(n)\n",
    "brain_ranges = {}\n",
    "for i in range(1,n+1):\n",
    "    brain_ranges[behaviors[i-1]] = ((i-1)*width-start, i*width-start)\n",
    "brain_id = {}\n",
    "for behavior in behaviors:\n",
    "    brain_id[behavior] = (brain_ranges[behavior][0]+brain_ranges[behavior][1])/2"
   ]
  },
  {
   "cell_type": "markdown",
   "metadata": {},
   "source": [
    "### Hard coded neurons"
   ]
  },
  {
   "cell_type": "code",
   "execution_count": 302,
   "metadata": {},
   "outputs": [
    {
     "data": {
      "image/png": "[encoded data removed]",
      "text/plain": [
       "<matplotlib.figure.Figure at 0x7fe735be0f90>"
      ]
     },
     "metadata": {},
     "output_type": "display_data"
    }
   ],
   "source": [
    "plt.figure(1)\n",
    "plt.plot(bases[\"fb\"][0])\n",
    "plt.show()"
   ]
  },
  {
   "cell_type": "code",
   "execution_count": 342,
   "metadata": {
    "collapsed": true
   },
   "outputs": [],
   "source": [
    "active_motors = [1,3,4,5,10,12]\n",
    "ts = [{},{}]\n",
    "ts[0] = {'fb': 124, 'fs': 126, 'sd': 118, 'zero': 0}\n",
    "ts[1] = {'fb': 62, 'fs': 63, 'sd': 59, 'zero': 0}"
   ]
  },
  {
   "cell_type": "markdown",
   "metadata": {},
   "source": [
    "### Position only"
   ]
  },
  {
   "cell_type": "code",
   "execution_count": 343,
   "metadata": {},
   "outputs": [],
   "source": [
    "pos_encoder = scalar_sdr(7,1,-100000.0,100000.0,shape=(6,1),neg=False)\n",
    "behvs = {}\n",
    "for id_ in bases:\n",
    "    behvs[id_] = {}\n",
    "    \n",
    "for id_ in behvs:\n",
    "    behvs[id_] = {}\n",
    "    behvs[id_][\"weights_pos\"] = []\n",
    "    for i in active_motors:\n",
    "        m_pos = np.zeros((pos_encoder.n))\n",
    "        for j in range(2):\n",
    "            pos = pos_encoder.encode(float(bases[id_][0][ts[j][id_]][i]))\n",
    "            m_pos += pos # hebbian learning of weights with only direct connections\n",
    "        behvs[id_][\"weights_pos\"].append(m_pos)\n",
    "\n",
    "behvs[id_][\"weights_pos\"] = np.array(behvs[id_][\"weights_pos\"]).reshape(1,6,pos_encoder.n,1)\n",
    "behvs[\"pos_encoder\"] = pos_encoder"
   ]
  },
  {
   "cell_type": "code",
   "execution_count": 344,
   "metadata": {},
   "outputs": [],
   "source": [
    "pickle_out = open(\"neurons_pos.pickle\",\"wb\")\n",
    "pickle.dump(behvs, pickle_out)\n",
    "pickle_out.close()"
   ]
  },
  {
   "cell_type": "code",
   "execution_count": 311,
   "metadata": {},
   "outputs": [
    {
     "data": {
      "text/plain": [
       "''"
      ]
     },
     "execution_count": 311,
     "metadata": {},
     "output_type": "execute_result"
    }
   ],
   "source": [
    "'''\n",
    "pos_encoder = scalar_sdr(7,1,-100000.0,100000.0,shape=(6,1),neg=False)\n",
    "\n",
    "weights_pos = np.zeros((6,pos_encoder.n,1))\n",
    "\n",
    "for i in range(len(active_motors)):\n",
    "    for id_ in bases:\n",
    "        # for each trigger position, create weights which will pass matching input through, and ignore others\n",
    "        pos = bases[id_][0][ts[id_]][active_motors[i]]\n",
    "        index_pos = int((pos-pos_encoder.min)/(pos_encoder.max-pos_encoder.min)*pos_encoder.b)\n",
    "        weights_pos[i,index_pos:index_pos+pos_encoder.w] = 1\n",
    "'''\n",
    "id_ = 'fb'\n",
    "index = ts[0][id_]\n",
    "n = bases[id_][0].shape[0]\n",
    "\n",
    "pos_ = []\n",
    "\n",
    "for i in range(n):\n",
    "    pos_.append(pos_encoder.encode_ndarray(bases[id_][0][i][active_motors].reshape(6,1)).reshape(6,pos_encoder.n))\n",
    "pos_ = np.array(pos_)\n",
    "\n",
    "temp = pos_.reshape(n,6,pos_encoder.n)\n",
    "np.nonzero(temp[0])\n",
    "\n",
    "#weights_pos = list(weights_pos.reshape(1,6,pos_encoder.n,1))\n",
    "weights_pos = list(np.array(behvs[id_][\"weights_pos\"]).reshape(1,6,pos_encoder.n,1))\n",
    "weights_pos = np.array(weights_pos*n)\n",
    "\n",
    "with tf.name_scope(\"input\"):\n",
    "    pos_nodes = tf.placeholder(tf.float32, [None,6,pos_encoder.n], name=\"motor_pos\")\n",
    "\n",
    "with tf.name_scope(\"weights\"):\n",
    "    w_pos = tf.placeholder(tf.float32, [None,6,pos_encoder.n], name=\"pos_weights\")\n",
    "\n",
    "with tf.name_scope(\"trigger\"):\n",
    "    pos_input = tf.multiply(pos_nodes,w_pos)\n",
    "    motor_activation = tf.nn.relu(tf.sign(pos_input))\n",
    "    trigger_sum_0 = tf.reduce_sum(motor_activation, axis = 2)\n",
    "    trigger_sum_1 = tf.reduce_sum(trigger_sum_0 - 0.99,axis=1)\n",
    "    trigger_activation = tf.nn.relu(tf.sign(trigger_sum_1))\n",
    "\n",
    "sess = tf.Session()\n",
    "init = tf.global_variables_initializer()\n",
    "sess.run(init)\n",
    "out = sess.run(trigger_activation,{pos_nodes: pos_.reshape(n,6,pos_encoder.n), w_pos: weights_pos.reshape(n,6,pos_encoder.n), trigger_bias: trig_b, w_trig: trig_w})\n",
    "#out = sess.run(trigger_activation,{pos_nodes: pos_.reshape(n,6,pos_encoder.n), vel_nodes: vel_.reshape(n,6,pos_encoder.n,vel_encoder.n), id_nodes: behv_.reshape(1,4), w_pos: weights_pos.reshape(n,6,pos_encoder.n), w_vel: weights_vel.reshape(n,6,pos_encoder.n,vel_encoder.n), w_id: weights_behv, trigger_bias: trig_b, w_trig: trig_w})\n",
    "# Create a summary writer, add the 'graph' to the event file.\n",
    "#writer = tf.summary.FileWriter(\"tf_logs\", sess.graph)\n",
    "\n",
    "'''\n",
    "weights_pos_save = weights_pos[0].reshape(1,6,pos_encoder.n)\n",
    "neurons_save = {\"weights_pos\": weights_pos_save, \"pos_encoder\": pos_encoder}\n",
    "\n",
    "pickle_out = open(\"neurons_pos.pickle\",\"wb\")\n",
    "pickle.dump(neurons_save, pickle_out)\n",
    "pickle_out.close()\n",
    "'''\n",
    "''"
   ]
  },
  {
   "cell_type": "code",
   "execution_count": 312,
   "metadata": {},
   "outputs": [
    {
     "data": {
      "text/plain": [
       "array([ 1.,  1.,  1.,  0.,  0.,  0.,  0.,  0.,  0.,  0.,  0.,  0.,  0.,\n",
       "        0.,  0.,  0.,  0.,  0.,  0.,  0.,  0.,  0.,  0.,  0.,  0.,  0.,\n",
       "        0.,  0.,  0.,  0.,  0.,  0.,  0.,  0.,  0.,  0.,  0.,  0.,  0.,\n",
       "        0.,  0.,  0.,  0.,  0.,  0.,  0.,  0.,  0.,  0.,  0.,  0.,  0.,\n",
       "        0.,  0.,  0.,  0.,  0.,  0.,  0.,  0.,  0.,  1.,  1.,  1.,  1.,\n",
       "        0.,  0.,  0.,  0.,  0.,  0.,  0.,  0.,  0.,  0.,  0.,  0.,  0.,\n",
       "        0.,  0.,  0.,  0.,  0.,  0.,  0.,  0.,  0.,  0.,  0.,  0.,  0.,\n",
       "        0.,  0.,  0.,  0.,  0.,  0.,  0.,  0.,  0.,  0.,  0.,  0.,  0.,\n",
       "        0.,  0.,  0.,  0.,  0.,  0.,  0.,  0.,  0.,  0.,  0.,  0.,  0.,\n",
       "        0.,  0.,  0.,  0.,  0.,  0.,  0.,  1.,  1.,  1.,  1.], dtype=float32)"
      ]
     },
     "execution_count": 312,
     "metadata": {},
     "output_type": "execute_result"
    }
   ],
   "source": [
    "out"
   ]
  },
  {
   "cell_type": "markdown",
   "metadata": {},
   "source": [
    "### Position and velocity"
   ]
  },
  {
   "cell_type": "code",
   "execution_count": 13,
   "metadata": {
    "collapsed": true
   },
   "outputs": [],
   "source": [
    "pos_encoder = scalar_sdr(31,2,-100000.0,100000.0,shape=(6,1),neg=False)\n",
    "vel_encoder = scalar_sdr(3,1,-70.0,70.0,shape=(6,1),neg=False)\n",
    "#brain_encoder = scalar_sdr(4,1,0.,1.,neg=False)\n",
    "\n",
    "weights_pos = np.zeros((6,pos_encoder.n,1))\n",
    "weights_vel = np.ones((6,pos_encoder.n,vel_encoder.n))\n",
    "#weights_behv = np.zeros((6,pos_encoder.n,vel_encoder.n,brain_encoder.n))-1\n",
    "\n",
    "for i in range(len(active_motors)):\n",
    "    for id_ in bases:\n",
    "        # for each trigger position, create weights which will pass matching input through, and ignore others\n",
    "        pos = bases[id_][0][ts[id_]][active_motors[i]]\n",
    "        index_pos = int((pos-pos_encoder.min)/(pos_encoder.max-pos_encoder.min)*pos_encoder.b)\n",
    "        weights_pos[i,index_pos:index_pos+pos_encoder.w] = 1\n",
    "       \n",
    "        # for each trigger position weight which passes a signal through, create weights for the velocity input such that \n",
    "        # the weights inhibit the position connection when the velocity does not match\n",
    "        vel = bases[id_][1][ts[id_]][active_motors[i]]\n",
    "        index_vel = int((vel-vel_encoder.min)/(vel_encoder.max-vel_encoder.min)*vel_encoder.b)\n",
    "        weights_vel[i,index_pos:index_pos+pos_encoder.w,index_vel:index_vel+vel_encoder.w] = 0\n",
    "        \n",
    "        # for each velocity connection, inhibit velocity connections that do not match the current states brain id\n",
    "        #brain = id_to_int[id_]\n",
    "        #weights_behv[i,index_pos,index_vel,brain] = 0"
   ]
  },
  {
   "cell_type": "code",
   "execution_count": 14,
   "metadata": {
    "collapsed": true
   },
   "outputs": [],
   "source": [
    "id_ = 'fb'\n",
    "index = ts[id_]\n",
    "n = bases[id_][0].shape[0]\n",
    "\n",
    "pos_ = []\n",
    "vel_ = []\n",
    "\n",
    "for i in range(n):\n",
    "    pos_.append(pos_encoder.encode_ndarray(bases[id_][0][i][active_motors].reshape(6,1)).reshape(6,pos_encoder.n))\n",
    "    vel_.append(vel_encoder.encode_ndarray(bases[id_][1][i][active_motors].reshape(6,1)).reshape(6,vel_encoder.n))\n",
    "pos_ = np.array(pos_)\n",
    "vel_ = np.array(vel_)\n",
    "\n",
    "trig_b = np.ones((n,6))\n",
    "trig_w = np.zeros((n,6))-0.99999\n",
    "\n",
    "a = np.zeros((n,6,pos_encoder.n,vel_encoder.n))\n",
    "for k in range(n):\n",
    "    for i in range(6):\n",
    "        for j in range(pos_encoder.n):\n",
    "            a[k][i][j] = vel_[k][i].reshape(vel_encoder.n)\n",
    "            \n",
    "vel_ = a"
   ]
  },
  {
   "cell_type": "code",
   "execution_count": 15,
   "metadata": {
    "collapsed": true
   },
   "outputs": [],
   "source": [
    "weights_pos = list(weights_pos.reshape(1,6,pos_encoder.n,1))\n",
    "weights_pos = np.array(weights_pos*n)\n",
    "\n",
    "weights_vel = list(weights_vel.reshape(1,6,pos_encoder.n,vel_encoder.n))\n",
    "weights_vel = np.array(weights_vel*n)"
   ]
  },
  {
   "cell_type": "code",
   "execution_count": 16,
   "metadata": {},
   "outputs": [
    {
     "name": "stdout",
     "output_type": "stream",
     "text": [
      "(128, 6, 32) (128, 6, 32, 3) (128, 6, 32) (128, 6, 32, 3) (128, 6) (128, 6)\n"
     ]
    }
   ],
   "source": [
    "with tf.name_scope(\"input\"):\n",
    "    pos_nodes = tf.placeholder(tf.float32, [None,6,pos_encoder.n], name=\"motor_pos\")\n",
    "    vel_nodes = tf.placeholder(tf.float32, [None,6,pos_encoder.n,vel_encoder.n], name=\"motor_vel\")\n",
    "    trigger_bias = tf.placeholder(tf.float32, [None,6], name = \"trigger_bias\")\n",
    "\n",
    "with tf.name_scope(\"weights\"):\n",
    "    w_pos = tf.placeholder(tf.float32, [None,6,pos_encoder.n], name=\"pos_weights\")\n",
    "    w_vel = tf.placeholder(tf.float32, [None,6,pos_encoder.n,vel_encoder.n], name=\"vel_weights\")\n",
    "    w_trig = tf.placeholder(tf.float32, [None,6], name = \"trigger_weights\")\n",
    "\n",
    "with tf.name_scope(\"trigger\"):\n",
    "    vel_input = tf.multiply(w_vel,vel_nodes)\n",
    "    vel_inhibitor = tf.reduce_sum(tf.nn.relu(tf.sign(vel_input)),axis=3)\n",
    "    pos_input = tf.multiply(pos_nodes,w_pos)\n",
    "    motor_sum = pos_input + vel_inhibitor*-1\n",
    "    motor_activation = tf.nn.relu(tf.sign(motor_sum))\n",
    "    trigger_sum_0 = tf.reduce_sum(motor_activation, axis = 2)\n",
    "    bias = tf.multiply(trigger_bias,w_trig)\n",
    "    trigger_sum_1 = tf.reduce_sum(trigger_sum_0 + bias,axis=1)\n",
    "    trigger_activation = tf.nn.relu(tf.sign(trigger_sum_1))\n",
    "\n",
    "sess = tf.Session()\n",
    "init = tf.global_variables_initializer()\n",
    "sess.run(init)\n",
    "print pos_.reshape(n,6,pos_encoder.n).shape, vel_.reshape(n,6,pos_encoder.n,vel_encoder.n).shape, weights_pos.reshape(n,6,pos_encoder.n).shape, weights_vel.reshape(n,6,pos_encoder.n,vel_encoder.n).shape, trig_b.shape,trig_w.shape\n",
    "out = sess.run(trigger_activation,{pos_nodes: pos_.reshape(n,6,pos_encoder.n), vel_nodes: vel_.reshape(n,6,pos_encoder.n,vel_encoder.n), w_pos: weights_pos.reshape(n,6,pos_encoder.n), w_vel: weights_vel.reshape(n,6,pos_encoder.n,vel_encoder.n), trigger_bias: trig_b, w_trig: trig_w})\n",
    "#out = sess.run(trigger_activation,{pos_nodes: pos_.reshape(n,6,pos_encoder.n), vel_nodes: vel_.reshape(n,6,pos_encoder.n,vel_encoder.n), id_nodes: behv_.reshape(1,4), w_pos: weights_pos.reshape(n,6,pos_encoder.n), w_vel: weights_vel.reshape(n,6,pos_encoder.n,vel_encoder.n), w_id: weights_behv, trigger_bias: trig_b, w_trig: trig_w})\n",
    "# Create a summary writer, add the 'graph' to the event file.\n",
    "writer = tf.summary.FileWriter(\"tf_logs\", sess.graph)"
   ]
  },
  {
   "cell_type": "code",
   "execution_count": 33,
   "metadata": {},
   "outputs": [
    {
     "data": {
      "text/plain": [
       "''"
      ]
     },
     "execution_count": 33,
     "metadata": {},
     "output_type": "execute_result"
    }
   ],
   "source": [
    "'''\n",
    "weights_pos_save = weights_pos[0].reshape(1,6,pos_encoder.n)\n",
    "weights_vel_save = weights_vel[0].reshape(1,6,pos_encoder.n,vel_encoder.n)\n",
    "trig_b_save = trig_b[0].reshape(1,6)\n",
    "trig_w_save = trig_w[0].reshape(1,6)\n",
    "neurons_save = {\"weights_pos\": weights_pos_save, \"weights_vel\": weights_vel_save, \"trig_b\": trig_b_save, \"trig_w\": trig_w_save}\n",
    "'''\n",
    "''"
   ]
  },
  {
   "cell_type": "code",
   "execution_count": 34,
   "metadata": {},
   "outputs": [
    {
     "data": {
      "text/plain": [
       "''"
      ]
     },
     "execution_count": 34,
     "metadata": {},
     "output_type": "execute_result"
    }
   ],
   "source": [
    "'''\n",
    "pickle_out = open(\"neurons.pickle\",\"wb\")\n",
    "pickle.dump(neurons_save, pickle_out)\n",
    "pickle_out.close()\n",
    "'''\n",
    "''"
   ]
  },
  {
   "cell_type": "code",
   "execution_count": 17,
   "metadata": {},
   "outputs": [
    {
     "data": {
      "text/plain": [
       "array([ 0.,  0.,  0.,  0.,  0.,  0.,  0.,  0.,  0.,  0.,  0.,  0.,  0.,\n",
       "        0.,  0.,  0.,  0.,  0.,  0.,  0.,  0.,  0.,  0.,  0.,  0.,  0.,\n",
       "        0.,  0.,  0.,  0.,  0.,  0.,  0.,  0.,  0.,  0.,  0.,  0.,  0.,\n",
       "        0.,  0.,  0.,  0.,  0.,  0.,  0.,  0.,  0.,  0.,  0.,  0.,  0.,\n",
       "        0.,  0.,  0.,  0.,  0.,  0.,  1.,  1.,  1.,  1.,  0.,  0.,  0.,\n",
       "        0.,  0.,  0.,  0.,  0.,  0.,  0.,  0.,  0.,  0.,  0.,  0.,  0.,\n",
       "        0.,  0.,  0.,  0.,  0.,  0.,  0.,  0.,  0.,  0.,  0.,  0.,  0.,\n",
       "        0.,  0.,  0.,  0.,  0.,  0.,  0.,  0.,  0.,  0.,  0.,  0.,  0.,\n",
       "        0.,  0.,  0.,  0.,  0.,  0.,  0.,  0.,  0.,  0.,  0.,  0.,  0.,\n",
       "        0.,  0.,  0.,  0.,  0.,  1.,  1.,  1.,  1.,  1.,  0.], dtype=float32)"
      ]
     },
     "execution_count": 17,
     "metadata": {},
     "output_type": "execute_result"
    }
   ],
   "source": [
    "out"
   ]
  },
  {
   "cell_type": "markdown",
   "metadata": {},
   "source": [
    "### Brain id to pos/vel network selection w/ LAM"
   ]
  },
  {
   "cell_type": "code",
   "execution_count": 167,
   "metadata": {
    "collapsed": true
   },
   "outputs": [],
   "source": [
    "class LAM:\n",
    "    def __init__(self,shape,weights=None):\n",
    "        self.shape = shape\n",
    "        try:\n",
    "            if weights == None:\n",
    "                self.weights = np.zeros(shape)\n",
    "        except ValueError:\n",
    "            self.weights = weights\n",
    "    \n",
    "    def store(self,input,output):\n",
    "        dW = np.outer(input,output)\n",
    "        self.weights += dW\n",
    "        \n",
    "    def recall(self,input,threshold=0,print_=False):\n",
    "        output = input.dot(self.weights)-threshold\n",
    "        if print_ == True:\n",
    "            print output\n",
    "        output[output > 0] = 1\n",
    "        output[output < 0] = 0\n",
    "        return output\n",
    "\n",
    "    def save_weights(self,filename):\n",
    "        np.save(filename, self.weights)\n",
    "        \n",
    "    def load_weights(self,filename):\n",
    "        weights = np.load(filename)\n",
    "        if weights.shape == self.shape:\n",
    "            self.weights = weights\n",
    "        else:\n",
    "            raise ValueError(\"Dimensions of specified weight array does not match network weight dimensions!\")"
   ]
  },
  {
   "cell_type": "code",
   "execution_count": 89,
   "metadata": {
    "collapsed": true
   },
   "outputs": [],
   "source": [
    "brain_encoder = scalar_sdr(4,1,0.,1.,neg=False)\n",
    "inputs = np.array([brain_encoder.encode(val) for val in brain_id.values()])\n",
    "outputs = np.array([[pos_encoder.n*[i] for i in input_] for input_ in inputs])\n",
    "lam = LAM((inputs[0].shape[0],outputs[0].flatten().shape[0]))\n",
    "for i in range(len(inputs)):\n",
    "    lam.store(inputs[i],outputs[i].flatten())"
   ]
  },
  {
   "cell_type": "code",
   "execution_count": 100,
   "metadata": {},
   "outputs": [
    {
     "data": {
      "text/plain": [
       "array([-1., -1., -1., -1., -1., -1., -1., -1., -1., -1., -1., -1., -1.,\n",
       "       -1., -1., -1., -1., -1., -1., -1., -1., -1., -1., -1., -1., -1.,\n",
       "       -1., -1., -1., -1., -1., -1., -1., -1., -1., -1., -1., -1., -1.,\n",
       "       -1., -1., -1., -1.,  0.,  0.,  0.,  0.,  0.,  0.,  0.,  0.,  0.,\n",
       "        0.,  0.,  0.,  0.,  0.,  0.,  0.,  0.,  0.,  0.,  0.,  0.,  0.,\n",
       "        0.,  0.,  0.,  0.,  0.,  0.,  0.,  0.,  0.,  0.,  0.,  0.,  0.,\n",
       "        0.,  0.,  0.,  0.,  0.,  0.,  0.,  0., -1., -1., -1., -1., -1.,\n",
       "       -1., -1., -1., -1., -1., -1., -1., -1., -1., -1., -1., -1., -1.,\n",
       "       -1., -1., -1., -1., -1., -1., -1., -1., -1., -1., -1., -1., -1.,\n",
       "       -1., -1., -1., -1., -1., -1., -1., -1., -1., -1., -1., -1., -1.,\n",
       "       -1., -1., -1., -1., -1., -1., -1., -1., -1., -1., -1., -1., -1.,\n",
       "       -1., -1., -1., -1., -1., -1., -1., -1., -1., -1., -1., -1., -1.,\n",
       "       -1., -1., -1., -1., -1., -1., -1., -1., -1., -1., -1., -1., -1.,\n",
       "       -1., -1., -1.])"
      ]
     },
     "execution_count": 100,
     "metadata": {},
     "output_type": "execute_result"
    }
   ],
   "source": [
    "lam.recall(brain_encoder.encode(brain_id[\"fb\"]))-1"
   ]
  },
  {
   "cell_type": "code",
   "execution_count": null,
   "metadata": {
    "collapsed": true
   },
   "outputs": [],
   "source": [
    "# i.e. each chunk corresponds to position being fed to a particular network, and just sum it up with the position being\n",
    "# fed to cancel out the signal to that network"
   ]
  },
  {
   "cell_type": "markdown",
   "metadata": {},
   "source": [
    "### Fix with nice matrix multiplication"
   ]
  },
  {
   "cell_type": "code",
   "execution_count": 8,
   "metadata": {
    "collapsed": true
   },
   "outputs": [],
   "source": [
    "behvs = {}\n",
    "for id_ in bases:\n",
    "    behvs[id_] = {}\n",
    "id_to_d = {\"fb\": 0, \"fs\": 0, \"sd\": 0, \"zero\": 0}"
   ]
  },
  {
   "cell_type": "code",
   "execution_count": 9,
   "metadata": {
    "collapsed": true
   },
   "outputs": [],
   "source": [
    "# Generate weights\n",
    "\n",
    "# use this to , these weights need to be loaded into the trigger_callback module in the dep_memory node\n",
    "# and currently this is done manually so be sure to specify the correct directories etc.\n",
    "\n",
    "# need to use width = 1 for pos encoder using the encoding as input and output for training position weights with \n",
    "# hebbian learning\n",
    "pos_encoder = scalar_sdr(41,3,-100000.0,100000.0,shape=(6,1),neg=False)\n",
    "vel_encoder = scalar_sdr(3,1,-70.0,70.0,shape=(6,1),neg=False)\n",
    "\n",
    "for id_ in behvs:\n",
    "    d = id_to_d[id_]\n",
    "    behvs[id_] = {}\n",
    "    behvs[id_][\"weights_pos\"] = []\n",
    "    behvs[id_][\"weights_vel\"] = []\n",
    "    for i in active_motors:\n",
    "        pos = pos_encoder.encode(float(bases[id_][0][ts[id_]-d][i]))\n",
    "        m_pos = pos # hebbian learning of weights with only direct connections\n",
    "        behvs[id_][\"weights_pos\"].append(m_pos)\n",
    "        \n",
    "        vel = vel_encoder.encode(float(bases[id_][1][ts[id_]-d][i]))\n",
    "        m_vel = np.outer(pos,vel) # hebbian learning of weights\n",
    "        behvs[id_][\"weights_vel\"].append(m_vel)\n",
    "\n",
    "behvs[id_][\"weights_pos\"] = np.array(behvs[id_][\"weights_pos\"]).reshape(1,6,pos_encoder.n,1)\n",
    "behvs[id_][\"weights_vel\"] = np.array(behvs[id_][\"weights_vel\"]).reshape(1,6,pos_encoder.n,vel_encoder.n)\n",
    "behvs[\"pos_encoder\"] = pos_encoder\n",
    "behvs[\"vel_encoder\"] = vel_encoder"
   ]
  },
  {
   "cell_type": "code",
   "execution_count": 10,
   "metadata": {},
   "outputs": [
    {
     "data": {
      "text/plain": [
       "'\\nneurons_save = behvs\\npickle_out = open(\"neurons_individual_behvs.pickle\",\"wb\")\\npickle.dump(neurons_save, pickle_out)\\npickle_out.close()\\n'"
      ]
     },
     "execution_count": 10,
     "metadata": {},
     "output_type": "execute_result"
    }
   ],
   "source": [
    "'''\n",
    "neurons_save = behvs\n",
    "pickle_out = open(\"neurons_individual_behvs.pickle\",\"wb\")\n",
    "pickle.dump(neurons_save, pickle_out)\n",
    "pickle_out.close()\n",
    "'''"
   ]
  },
  {
   "cell_type": "code",
   "execution_count": 19,
   "metadata": {
    "collapsed": true
   },
   "outputs": [],
   "source": [
    "# Generate data\n",
    "\n",
    "# by varying \"id_\" you can inspect the output triggering output the network will generate for each state of the behavior\n",
    "# stored in a recording of the behavior in bases\n",
    "\n",
    "id_ = 'fb'\n",
    "n = bases[id_][0].shape[0]\n",
    "\n",
    "pos_ = []\n",
    "vel_ = []\n",
    "\n",
    "for i in range(n):\n",
    "    pos_.append(pos_encoder.encode_ndarray(bases[id_][0][i][active_motors].reshape(6,1)).reshape(6,pos_encoder.n,1))\n",
    "    vel_.append(vel_encoder.encode_ndarray(bases[id_][1][i][active_motors].reshape(6,1)).reshape(6,vel_encoder.n,1))\n",
    "pos_ = np.array(pos_)\n",
    "vel_ = np.array(vel_)\n",
    "\n",
    "# need to have weights for each test\n",
    "weights_pos = np.array(list(behvs[id_][\"weights_pos\"])*n).reshape(n,6,pos_encoder.n,1)\n",
    "weights_vel = np.array(list(behvs[id_][\"weights_vel\"])*n).reshape(n,6,pos_encoder.n,vel_encoder.n)\n",
    "\n",
    "\n",
    "with tf.name_scope(\"input\"):\n",
    "    pos_nodes = tf.placeholder(tf.float32, [None,6,pos_encoder.n,1], name=\"motor_pos\")\n",
    "    vel_nodes = tf.placeholder(tf.float32, [None,6,vel_encoder.n,1], name=\"motor_vel\")\n",
    "\n",
    "with tf.name_scope(\"weights\"):\n",
    "    w_pos = tf.placeholder(tf.float32, [None,6,pos_encoder.n,1], name=\"pos_weights\")\n",
    "    w_vel = tf.placeholder(tf.float32, [None,6,pos_encoder.n,vel_encoder.n], name=\"vel_weights\")\n",
    "\n",
    "with tf.name_scope(\"trigger\"):\n",
    "    vel_input = tf.matmul(w_vel,vel_nodes)\n",
    "    vel_inhibitor = tf.nn.relu(tf.sign(vel_input))\n",
    "    pos_input = w_pos*pos_nodes\n",
    "    motor_sum = pos_input + (vel_inhibitor - 1)\n",
    "    motor_activation = tf.nn.relu(tf.sign(motor_sum))\n",
    "    trigger_sum_0 = tf.reduce_sum(motor_activation, axis = 2) \n",
    "    trigger_sum_1 = tf.reduce_sum(trigger_sum_0 - 0.99, axis = 1)\n",
    "    trigger_activation = tf.nn.relu(tf.sign(trigger_sum_1))\n",
    "\n",
    "sess = tf.Session()\n",
    "init = tf.global_variables_initializer()\n",
    "sess.run(init)\n",
    "out = sess.run(trigger_activation,{pos_nodes: pos_, vel_nodes: vel_, w_pos: weights_pos, w_vel: weights_vel})\n",
    "sess.close()\n",
    "\n",
    "# Create a summary writer, add the 'graph' to the event file.\n",
    "# writer = tf.summary.FileWriter(\"tf_logs\", sess.graph)\n",
    "# This graph can be inspected with tensorboard: tensorboard --logdir=\"tf_logs\""
   ]
  },
  {
   "cell_type": "code",
   "execution_count": 20,
   "metadata": {},
   "outputs": [
    {
     "data": {
      "text/plain": [
       "array([[ 0.,  0.,  0.,  0.,  0.,  0.,  0.,  0.,  0.,  0.,  0.,  0.,  0.,\n",
       "         0.,  0.,  0.,  0.,  0.,  0.,  0.,  0.,  0.,  0.,  0.,  0.,  0.,\n",
       "         0.,  0.,  0.,  0.,  0.,  0.,  0.,  0.,  0.,  0.,  0.,  0.,  0.,\n",
       "         0.,  0.,  0.,  0.,  0.,  0.,  0.,  0.,  0.,  0.,  0.,  0.,  0.,\n",
       "         0.,  0.,  0.,  0.,  0.,  0.,  0.,  0.,  0.,  0.,  0.,  0.,  0.,\n",
       "         0.,  0.,  0.,  0.,  0.,  0.,  0.,  0.,  0.,  0.,  0.,  0.,  0.,\n",
       "         0.,  0.,  0.,  0.,  0.,  0.,  0.,  0.,  0.,  0.,  0.,  0.,  0.,\n",
       "         0.,  0.,  0.,  0.,  0.,  0.,  0.,  0.,  0.,  0.,  0.,  0.,  0.,\n",
       "         0.,  0.,  0.,  0.,  0.,  0.,  0.,  0.,  0.,  0.,  0.,  0.,  0.,\n",
       "         0.,  0.,  0.,  0.,  1.,  1.,  1.,  1.,  1.,  1.,  1.]], dtype=float32)"
      ]
     },
     "execution_count": 20,
     "metadata": {},
     "output_type": "execute_result"
    }
   ],
   "source": [
    "out.reshape(1,n)"
   ]
  },
  {
   "cell_type": "markdown",
   "metadata": {},
   "source": [
    "### The idea"
   ]
  },
  {
   "cell_type": "code",
   "execution_count": 382,
   "metadata": {},
   "outputs": [
    {
     "ename": "NameError",
     "evalue": "name 'weights_behv' is not defined",
     "output_type": "error",
     "traceback": [
      "\u001b[0;31m---------------------------------------------------------------------------\u001b[0m",
      "\u001b[0;31mNameError\u001b[0m                                 Traceback (most recent call last)",
      "\u001b[0;32m<ipython-input-382-352856b97dfb>\u001b[0m in \u001b[0;36m<module>\u001b[0;34m()\u001b[0m\n\u001b[1;32m      1\u001b[0m \u001b[0;31m# this is it, but it doesn't make sense in terms of neuron connections\u001b[0m\u001b[0;34m\u001b[0m\u001b[0;34m\u001b[0m\u001b[0m\n\u001b[0;32m----> 2\u001b[0;31m \u001b[0ma\u001b[0m \u001b[0;34m=\u001b[0m \u001b[0mweights_behv\u001b[0m\u001b[0;34m[\u001b[0m\u001b[0;36m0\u001b[0m\u001b[0;34m]\u001b[0m\u001b[0;34m+\u001b[0m\u001b[0;36m1\u001b[0m\u001b[0;34m\u001b[0m\u001b[0m\n\u001b[0m\u001b[1;32m      3\u001b[0m \u001b[0mb\u001b[0m \u001b[0;34m=\u001b[0m \u001b[0mnp\u001b[0m\u001b[0;34m.\u001b[0m\u001b[0minner\u001b[0m\u001b[0;34m(\u001b[0m\u001b[0ma\u001b[0m\u001b[0;34m,\u001b[0m\u001b[0mbehv_\u001b[0m\u001b[0;34m[\u001b[0m\u001b[0;36m0\u001b[0m\u001b[0;34m]\u001b[0m\u001b[0;34m)\u001b[0m\u001b[0;34m\u001b[0m\u001b[0m\n\u001b[1;32m      4\u001b[0m \u001b[0mc\u001b[0m \u001b[0;34m=\u001b[0m \u001b[0;34m[\u001b[0m\u001b[0;34m]\u001b[0m\u001b[0;34m\u001b[0m\u001b[0m\n\u001b[1;32m      5\u001b[0m \u001b[0;32mfor\u001b[0m \u001b[0mi\u001b[0m \u001b[0;32min\u001b[0m \u001b[0mrange\u001b[0m\u001b[0;34m(\u001b[0m\u001b[0;36m6\u001b[0m\u001b[0;34m)\u001b[0m\u001b[0;34m:\u001b[0m\u001b[0;34m\u001b[0m\u001b[0m\n",
      "\u001b[0;31mNameError\u001b[0m: name 'weights_behv' is not defined"
     ]
    }
   ],
   "source": [
    "# this is it, but it doesn't make sense in terms of neuron connections\n",
    "a = weights_behv[0]+1\n",
    "b = np.inner(a,behv_[0])\n",
    "c = []\n",
    "for i in range(6):\n",
    "    x = b[i].dot(vel_[ts[id_]][i])\n",
    "    c.append(x)\n",
    "c = np.array(c)\n",
    "d = np.sum(c*pos_[ts[id_]],axis=1)\n",
    "d"
   ]
  },
  {
   "cell_type": "code",
   "execution_count": null,
   "metadata": {
    "collapsed": true
   },
   "outputs": [],
   "source": []
  }
 ],
 "metadata": {
  "kernelspec": {
   "display_name": "Python 2",
   "language": "python",
   "name": "python2"
  },
  "language_info": {
   "codemirror_mode": {
    "name": "ipython",
    "version": 2
   },
   "file_extension": ".py",
   "mimetype": "text/x-python",
   "name": "python",
   "nbconvert_exporter": "python",
   "pygments_lexer": "ipython2",
   "version": "2.7.12"
  }
 },
 "nbformat": 4,
 "nbformat_minor": 2
}
