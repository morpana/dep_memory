{
 "cells": [
  {
   "cell_type": "markdown",
   "metadata": {},
   "source": [
    "# Hopfield Net"
   ]
  },
  {
   "cell_type": "code",
   "execution_count": 24,
   "metadata": {},
   "outputs": [],
   "source": [
    "import numpy as np\n",
    "np.set_printoptions(precision=3)\n",
    "np.set_printoptions(suppress=True)"
   ]
  },
  {
   "cell_type": "code",
   "execution_count": 25,
   "metadata": {},
   "outputs": [],
   "source": [
    "# Implementation for asynchronous Hopfield neural network\n",
    "# Note: memory capacity ≃ 0.14*nodes\n",
    "class Hopfield_Neural_Network:\n",
    "    def __init__(self,nodes,iterations=100,weights=None):\n",
    "        self.nodes = nodes\n",
    "        self.iterations = iterations\n",
    "        try:\n",
    "            if weights == None:\n",
    "                self.weights = np.zeros((nodes,nodes))\n",
    "        except ValueError:\n",
    "            self.weights = weights\n",
    "    \n",
    "    def store(self,input):\n",
    "        dW = np.outer(input,input)\n",
    "        np.fill_diagonal(dW,0)\n",
    "        self.weights += dW\n",
    "        \n",
    "    def recall(self,input,range_=None):\n",
    "        # Can specify range of nodes to iterate over (i.e. nodes that are \"input\" may be known as correct)\n",
    "        if type(range_) == tuple:\n",
    "            a = range(range_[0],range_[1])\n",
    "        else:\n",
    "            a = self.nodes\n",
    "        update_sequence = np.random.choice(a, self.iterations)\n",
    "        for node in update_sequence:\n",
    "            input[node] = np.sign(np.inner(input,self.weights[:,node]))\n",
    "            if input[node] == 0: # this was missing\n",
    "                input[node] = -1\n",
    "        return input\n",
    "    \n",
    "    def setIter(self,iter_):\n",
    "        self.iterations = iter_\n",
    "    \n",
    "    def save_weights(self,filename):\n",
    "        np.save(filename, self.weights)\n",
    "        \n",
    "    def load_weights(self,filename):\n",
    "        weights = np.load(filename)\n",
    "        if weights.shape == (self.nodes, self.nodes):\n",
    "            self.weights = weights\n",
    "        else:\n",
    "            raise ValueError(\"Dimensions of specified weight array does not match network weight dimensions!\")"
   ]
  },
  {
   "cell_type": "markdown",
   "metadata": {},
   "source": [
    "# Data"
   ]
  },
  {
   "cell_type": "markdown",
   "metadata": {},
   "source": [
    "### Matrices"
   ]
  },
  {
   "cell_type": "code",
   "execution_count": 26,
   "metadata": {},
   "outputs": [],
   "source": [
    "import re"
   ]
  },
  {
   "cell_type": "code",
   "execution_count": 27,
   "metadata": {},
   "outputs": [],
   "source": [
    "class matrix_expansion:\n",
    "    \n",
    "    def __init__(self,active_motors):\n",
    "        self.active_motors = active_motors\n",
    "        active_sensors = np.array(active_motors*2)\n",
    "        active_sensors[len(active_motors):] += 14\n",
    "        self.active_sensors = active_sensors\n",
    "        self.shape = ()\n",
    "        \n",
    "    def load_from_file(self,filename):\n",
    "        f = open(filename,\"r\")\n",
    "        matrix = f.read()\n",
    "        f.close()\n",
    "        matrix = re.split(\",NEW_ROW,\",matrix)\n",
    "        matrix.pop()\n",
    "        matrix = np.array([np.array(re.split(\",\", row)).astype(np.float) for row in matrix])\n",
    "        self.shape = matrix.shape\n",
    "        return matrix\n",
    "        \n",
    "    def reduced_matrix(self,matrix):\n",
    "        matrix = matrix[:,self.active_sensors][self.active_motors]\n",
    "        return matrix\n",
    "    \n",
    "    def expanded_matrix(self,reduced_matrix):\n",
    "        matrix = np.zeros(self.shape)\n",
    "        flat = reduced_matrix.flatten()\n",
    "        matrix = np.zeros((14,28))\n",
    "        k = 0\n",
    "        for i in active_motors:\n",
    "            for j in active_sensors:\n",
    "                matrix[i,j] = flat[k]\n",
    "                k += 1\n",
    "        return matrix"
   ]
  },
  {
   "cell_type": "code",
   "execution_count": 28,
   "metadata": {},
   "outputs": [],
   "source": [
    "active_motors = [1,3,4,5,10,12]\n",
    "expander = matrix_expansion(active_motors)"
   ]
  },
  {
   "cell_type": "code",
   "execution_count": 29,
   "metadata": {},
   "outputs": [],
   "source": [
    "# Front back\n",
    "filename = \"/home/markus/dep/dep_matrices/front_back.dep\"\n",
    "fb_matrix = expander.load_from_file(filename)\n",
    "fb_reduced = expander.reduced_matrix(fb_matrix)\n",
    "#fb_expanded = expander.expanded_matrix(fb_reduced)"
   ]
  },
  {
   "cell_type": "code",
   "execution_count": 30,
   "metadata": {},
   "outputs": [],
   "source": [
    "# Front side\n",
    "filename = \"/home/markus/dep/dep_matrices/front_side.dep\"\n",
    "fs_matrix = expander.load_from_file(filename)\n",
    "fs_reduced = expander.reduced_matrix(fs_matrix)\n",
    "#fs_expanded = expander.expanded_matrix(fs_reduced)"
   ]
  },
  {
   "cell_type": "code",
   "execution_count": 31,
   "metadata": {},
   "outputs": [],
   "source": [
    "# Side down\n",
    "filename = \"/home/markus/dep/dep_matrices/side_down.dep\"\n",
    "sd_matrix = expander.load_from_file(filename)\n",
    "sd_reduced = expander.reduced_matrix(sd_matrix)\n",
    "#sd_expanded = expander.expanded_matrix(sd_reduced)"
   ]
  },
  {
   "cell_type": "code",
   "execution_count": 32,
   "metadata": {},
   "outputs": [],
   "source": [
    "# Zero\n",
    "zero_reduced = np.zeros(fb_reduced.shape)"
   ]
  },
  {
   "cell_type": "code",
   "execution_count": 33,
   "metadata": {},
   "outputs": [],
   "source": [
    "matrices = {\"fb\": fb_reduced, \"fs\": fs_reduced, \"sd\": sd_reduced, \"zero\": zero_reduced}"
   ]
  },
  {
   "cell_type": "markdown",
   "metadata": {},
   "source": [
    "### Transition points"
   ]
  },
  {
   "cell_type": "code",
   "execution_count": 34,
   "metadata": {},
   "outputs": [],
   "source": [
    "import pickle"
   ]
  },
  {
   "cell_type": "code",
   "execution_count": 35,
   "metadata": {},
   "outputs": [],
   "source": [
    "behaviors = [\"zero\",\"fb\",\"fs\",\"sd\"]\n",
    "transitions = {(\"fb\",\"fs\"): [], (\"fb\",\"sd\"): [], (\"fs\",\"fb\"): [], (\"fs\",\"sd\"): [], (\"sd\",\"fb\"): [], (\"sd\",\"fs\"): []}\n",
    "\n",
    "# generate all transition combinations (including zero and \"self-transitions\")\n",
    "#transitions = {}\n",
    "#for behavior_1 in behaviors:\n",
    "#    for behavior_2 in behaviors:\n",
    "#        transitions[(behavior_1,behavior_2)] = []"
   ]
  },
  {
   "cell_type": "code",
   "execution_count": 36,
   "metadata": {},
   "outputs": [],
   "source": [
    "fb = pickle.load(open(\"/home/markus/dep/dep_data/bases/fb.pickle\",\"rb\"))\n",
    "fs = pickle.load(open(\"/home/markus/dep/dep_data/bases/fs.pickle\",\"rb\"))\n",
    "sd = pickle.load(open(\"/home/markus/dep/dep_data/bases/sd.pickle\", \"rb\"))\n",
    "zero = []\n",
    "for array in fb:\n",
    "    zero.append(np.zeros(array.shape))\n",
    "\n",
    "bases = {\"fb\": fb, \"fs\": fs, \"sd\": sd}#, \"zero\": zero}"
   ]
  },
  {
   "cell_type": "code",
   "execution_count": 37,
   "metadata": {},
   "outputs": [],
   "source": [
    "# obtained from plot, time indices that meat transition_muscle_2 condition\n",
    "fb_t = 124\n",
    "fs_t = 126\n",
    "sd_t = 117\n",
    "zero_t = 0"
   ]
  },
  {
   "cell_type": "code",
   "execution_count": 38,
   "metadata": {},
   "outputs": [],
   "source": [
    "# pos data\n",
    "pos = {\"fb\": fb[0][fb_t][active_motors], \"fs\": fs[0][fs_t][active_motors], \"sd\": sd[0][sd_t][active_motors], \"zero\": zero[0][zero_t][active_motors]}\n",
    "# vel data\n",
    "vel = {\"fb\": fb[1][fb_t][active_motors], \"fs\": fs[1][fs_t][active_motors], \"sd\": sd[1][sd_t][active_motors], \"zero\": zero[1][zero_t][active_motors]}"
   ]
  },
  {
   "cell_type": "markdown",
   "metadata": {},
   "source": [
    "### Brain ID"
   ]
  },
  {
   "cell_type": "code",
   "execution_count": 39,
   "metadata": {},
   "outputs": [],
   "source": [
    "behaviors = [\"zero\",\"fb\",\"fs\",\"sd\"]\n",
    "n = len(behaviors)\n",
    "start = 0.0\n",
    "width = 1.0/float(n)\n",
    "brain_ranges = {}\n",
    "for i in range(1,n+1):\n",
    "    brain_ranges[behaviors[i-1]] = ((i-1)*width-start, i*width-start)\n",
    "brain_id = {}\n",
    "for behavior in behaviors:\n",
    "    brain_id[behavior] = (brain_ranges[behavior][0]+brain_ranges[behavior][1])/2\n",
    "# \"zero = [0.0,0.25], \"fb\" = [0.25,0.5], \"fs\" = [0.5, 0.75], \"sd\" = [0.75,1.00]\n",
    "#brain_id = {\"zero\": 0.125, \"fb\": 0.375, \"fs\": 0.625, \"sd\": 0.875}"
   ]
  },
  {
   "cell_type": "markdown",
   "metadata": {},
   "source": [
    "# Encoding"
   ]
  },
  {
   "cell_type": "code",
   "execution_count": 40,
   "metadata": {},
   "outputs": [],
   "source": [
    "# HTM SDR Scalar Encoder\n",
    "# Input: Scalar\n",
    "# Parameters: n - number of units, w - bits used to represent signal (width), b - buckets (i.e. resolution), \n",
    "#             min - minimum value of input (inclusive), max - maximum input value (inclusive)\n",
    "class scalar_sdr:\n",
    "    \n",
    "    def __init__(self, b, w, min_, max_, shape=(1,1), neg=True):\n",
    "        if type(b) != int or type(w) != int or type(min_) != float or type(max_) != float:\n",
    "            raise TypeError(\"b - buckets must be int, w - width must be int, min_ must be float and max_ must be float\")\n",
    "        self.b = b # must be int\n",
    "        self.w = w # must be int\n",
    "        self.min = min_ # must be float\n",
    "        self.max = max_ # must be float\n",
    "        self.n = b+w-1 # number of units for encoding\n",
    "        self.ndarray_shape = shape\n",
    "        self.nodes = self.n*reduce(lambda x, y: x*y, self.ndarray_shape)\n",
    "        self.neg = neg\n",
    "        \n",
    "    def encode(self,input_):\n",
    "        if input_ > self.max or input_ < self.min:\n",
    "            raise ValueError(\"Input outside encoder range!\")\n",
    "        if type(input_) != float:\n",
    "            raise TypeError(\"Input must be float!\")\n",
    "        if self.neg:\n",
    "            output = np.zeros(self.n)-1\n",
    "        else:\n",
    "            output = np.zeros(self.n)\n",
    "        index = int((input_-self.min)/(self.max-self.min)*self.b)\n",
    "        output[index:index+self.w] = 1\n",
    "        return output\n",
    "    \n",
    "    def encode_ndarray(self,input_):\n",
    "        if input_.shape != self.ndarray_shape:\n",
    "            raise ValueError(\"Input dimensions do not match specified encoder dimensions!\")\n",
    "        output = []\n",
    "        for i in np.nditer(input_, order='K'):\n",
    "            output.append(self.encode(float(i)))\n",
    "        return np.array(output)\n",
    "    '''\n",
    "    def decode(self,input_):\n",
    "        if len(input_) != self.n: # or len(np.nonzero(input_+1)[0]) != self.w: <-- Can't have since the network is not guaranteed to produce this by any means!!!\n",
    "            raise TypeError(\"Input does not correspond to encoder encoded data!\")\n",
    "        # output = np.nonzero(input_+1)[0][0]/float(self.b)*(self.max-self.min)+self.min <-- This doesn't work really since bits can randomly fire, taking the average is a more reasonable decoding\n",
    "        median = np.median(np.nonzero(input_+1)[0])            \n",
    "        try:\n",
    "            output = int(median-float(self.w)/2.0)/float(self.b)*(self.max-self.min)+self.min # i.e. figure out center (median more outlier resistant than mean) and subtract width/2\n",
    "        except ValueError:\n",
    "            output = None\n",
    "        return output\n",
    "    '''\n",
    "    def decode(self,input_):\n",
    "        if len(input_) != self.n: \n",
    "            raise TypeError(\"Input length does not match encoder length!\")\n",
    "        if len(np.nonzero(input_+1)[0]) == 0:\n",
    "            return np.nan\n",
    "        max_ = 0\n",
    "        output = 0.0\n",
    "        for i in range(self.b):\n",
    "            x = np.zeros(self.n)-1\n",
    "            x[i:i+self.w] = 1\n",
    "            if x.shape != input_.shape:\n",
    "                input_ = input_.reshape(x.shape)\n",
    "            score = np.inner(x,input_) # this was broken for some input formats \n",
    "            if score > max_:\n",
    "                max_ = score\n",
    "                output = float(i)/float(self.b)*(self.max-self.min)+self.min\n",
    "        return output\n",
    "            \n",
    "    def decode_ndarray(self,input_):\n",
    "        if input_.shape != (reduce(lambda x, y: x*y, self.ndarray_shape)*self.n,): \n",
    "            raise ValueError(\"Input dimensions do not match specified encoder dimensions!\")\n",
    "        input_ = input_.reshape(self.ndarray_shape+(self.n,))\n",
    "        output = []\n",
    "        for i in np.ndindex(self.ndarray_shape):\n",
    "            output.append(self.decode(input_[i]))\n",
    "        output = np.array(output).reshape(self.ndarray_shape)\n",
    "        return output\n",
    "    \n",
    "    def set_ndarray_shape(self,shape):\n",
    "        if type(shape) != tuple:\n",
    "            raise TypeError(\"Must provide tuple of array dimensions!\")\n",
    "        self.ndarray_shape = shape"
   ]
  },
  {
   "cell_type": "markdown",
   "metadata": {},
   "source": [
    "# Testing"
   ]
  },
  {
   "cell_type": "code",
   "execution_count": 41,
   "metadata": {},
   "outputs": [],
   "source": [
    "import time\n",
    "import matplotlib.pyplot as plt"
   ]
  },
  {
   "cell_type": "markdown",
   "metadata": {},
   "source": [
    "### Recall single matrix value from brain_id"
   ]
  },
  {
   "cell_type": "code",
   "execution_count": 42,
   "metadata": {},
   "outputs": [],
   "source": [
    "# Pretty good!\n",
    "# number of cases where error < 0.0125 ≃ 280 (out of 288)\n",
    "# m_encoder = scalar_sdr(40,22,-0.25,0.25,matrix_shape)\n",
    "# b_encoder = scalar_sdr(44,20,0.0,1.0)\n",
    "# iter_ = 300\n",
    "# duration: 0.000701740673847 i.e. 0.7 ms * 72 = 50.5 ms (on my laptop)"
   ]
  },
  {
   "cell_type": "code",
   "execution_count": 43,
   "metadata": {},
   "outputs": [],
   "source": [
    "# Also good, but perhaps too slow?\n",
    "# number of cases where error < 0.00625 ≃ 274 (out of 288)\n",
    "# m_encoder = scalar_sdr(80,44,-0.25,0.25,matrix_shape)\n",
    "# b_encoder = scalar_sdr(88,40,0.0,1.0)\n",
    "# iter_ = 600\n",
    "# duration:  0.00151696246531 i.e. 1.5 ms * 72 = 109 ms (on my laptop)"
   ]
  },
  {
   "cell_type": "code",
   "execution_count": 44,
   "metadata": {},
   "outputs": [],
   "source": [
    "# Setup encoders\n",
    "matrix_shape = (1,)\n",
    "m_encoder = scalar_sdr(80,44,-0.25,0.25,matrix_shape)\n",
    "b_encoder = scalar_sdr(92,40,0.0,1.0)"
   ]
  },
  {
   "cell_type": "code",
   "execution_count": 45,
   "metadata": {},
   "outputs": [],
   "source": [
    "# Calculate number of nodes of hopfield net\n",
    "nodes = m_encoder.nodes + b_encoder.nodes"
   ]
  },
  {
   "cell_type": "code",
   "execution_count": 46,
   "metadata": {},
   "outputs": [],
   "source": [
    "# i) Initialize hopfield network for each matrix value\n",
    "# ii) Store data for each brain_id+matrix[brain_id] for given matrix index\n",
    "nns = {}\n",
    "for index in np.ndindex(matrices[\"zero\"].shape):\n",
    "    hnn = Hopfield_Neural_Network(nodes)\n",
    "    for id_ in brain_id:\n",
    "        data = np.array([])\n",
    "        matrix = matrices[id_][index].reshape(matrix_shape)\n",
    "        matrix = m_encoder.encode_ndarray(matrix)\n",
    "        data = np.append(data,matrix.flatten())\n",
    "\n",
    "        brain_sig = brain_id[id_]\n",
    "        brain_sig = b_encoder.encode(brain_sig)\n",
    "        data = np.append(data,brain_sig)\n",
    "\n",
    "        hnn.store(data)\n",
    "\n",
    "    nns[index] = hnn"
   ]
  },
  {
   "cell_type": "code",
   "execution_count": 49,
   "metadata": {},
   "outputs": [],
   "source": [
    "pickle_out = open(\"hnns_80.pickle\",\"wb\")\n",
    "pickle.dump(nns, pickle_out)\n",
    "pickle_out.close()"
   ]
  },
  {
   "cell_type": "code",
   "execution_count": 48,
   "metadata": {},
   "outputs": [
    {
     "name": "stdout",
     "output_type": "stream",
     "text": [
      "nans:  0\n",
      "mean:  0.00153645833333\n",
      "max:  0.08125\n",
      "std:  0.0059085896123\n",
      "duration:  0.000907810694642\n"
     ]
    },
    {
     "data": {
      "image/png": "[encoded data removed]",
      "text/plain": [
       "<matplotlib.figure.Figure at 0x7fd8db7b9410>"
      ]
     },
     "metadata": {},
     "output_type": "display_data"
    },
    {
     "name": "stdout",
     "output_type": "stream",
     "text": [
      "Values[0]:  281.0\n"
     ]
    }
   ],
   "source": [
    "# Recall matrix values from brain_id\n",
    "\n",
    "# setup some arrays to hold data\n",
    "nans_avg = []\n",
    "diffs = []\n",
    "durations = []\n",
    "\n",
    "# run recall fo network 'samples' number of times\n",
    "samples = 10\n",
    "for i in range(samples):\n",
    "    nans = 0\n",
    "    diffs_m = []\n",
    "    \n",
    "    # for each index in the DEP matrix\n",
    "    for index in np.ndindex(matrices[\"zero\"].shape):\n",
    "        \n",
    "        # for each brain id\n",
    "        for id_ in brain_id:\n",
    "            \n",
    "            # generate data\n",
    "            data = np.zeros(nodes)-1\n",
    "            brain_sig = brain_id[id_]\n",
    "            brain_sig = b_encoder.encode(brain_sig)\n",
    "            data[-b_encoder.n:] = brain_sig\n",
    "            \n",
    "            # set iteration number\n",
    "            nns[index].setIter(300)\n",
    "            \n",
    "            # recall matrix value\n",
    "            t0 = time.time()\n",
    "            mem = nns[index].recall(data,(0,m_encoder.n))\n",
    "            duration = time.time()-t0\n",
    "            durations.append(duration)\n",
    "            \n",
    "            # decode matrix value\n",
    "            matrix_out = mem[0:m_encoder.nodes]\n",
    "            \n",
    "            # calculate error of recalled matrix value\n",
    "            matrix_decoded = m_encoder.decode_ndarray(matrix_out)\n",
    "            diff_m = m_encoder.decode_ndarray(m_encoder.encode_ndarray(matrices[id_][index].reshape(matrix_shape)).flatten())-matrix_decoded\n",
    "            \n",
    "            if np.isnan(diff_m):\n",
    "                nans += 1\n",
    "            diffs_m.append(diff_m)\n",
    "    \n",
    "    nans_avg.append(nans)\n",
    "    diffs.append(abs(np.array(diffs_m)))\n",
    "    \n",
    "# print meta data\n",
    "print \"nans: \", np.max(nans_avg)\n",
    "print \"mean: \", np.mean(np.array(diffs).flatten())\n",
    "print \"max: \", np.max(np.array(diffs).flatten())\n",
    "print \"std: \", np.std(np.array(diffs).flatten())\n",
    "print \"duration: \", np.mean(durations)\n",
    "\n",
    "# Bar graph plot\n",
    "\n",
    "# plotting constants \n",
    "max_ = 0.5\n",
    "bars = 40\n",
    "\n",
    "# calculate category indices\n",
    "categories = []\n",
    "for i in range(bars):\n",
    "    categories.append(i*max_/bars)\n",
    "width = categories[1]\n",
    "\n",
    "# tally number of instances for each category\n",
    "values = np.zeros(bars)\n",
    "for diff in np.array(diffs).flatten():\n",
    "    i = int(diff/(max_+0.0000001)*bars)\n",
    "    values[i] += 1\n",
    "# divide by number of samples to obtain normalized score\n",
    "values /= samples\n",
    "\n",
    "# plot bar graph\n",
    "plt.figure(1)\n",
    "plt.bar(categories, values, width, align='center')\n",
    "plt.show()\n",
    "\n",
    "# print number of values that fall into first category (good approximation of how well the memory does)\n",
    "print \"Values[0]: \", values[0]"
   ]
  },
  {
   "cell_type": "markdown",
   "metadata": {},
   "source": [
    "### Recall matrix from brain id"
   ]
  },
  {
   "cell_type": "code",
   "execution_count": 176,
   "metadata": {},
   "outputs": [],
   "source": [
    "# setup encoders\n",
    "m_encoder = scalar_sdr(40,22,-0.25,0.25,(6,12))\n",
    "b_encoder = scalar_sdr(460,20,0.0,1.0)\n",
    "# calculate number of nodes\n",
    "nodes = m_encoder.nodes + b_encoder.n\n",
    "# initialize hopfield net\n",
    "hnn = Hopfield_Neural_Network(nodes)"
   ]
  },
  {
   "cell_type": "code",
   "execution_count": 177,
   "metadata": {},
   "outputs": [],
   "source": [
    "# store data in hnn i.e. brain_id -- matrix[brain_id] pairs\n",
    "for id_ in brain_id:\n",
    "    data = np.array([])\n",
    "    matrix = matrices[id_]\n",
    "    matrix = m_encoder.encode_ndarray(matrix)\n",
    "    data = np.append(data,matrix.flatten())\n",
    "\n",
    "    brain_sig = brain_id[id_]\n",
    "    brain_sig = b_encoder.encode(brain_sig)\n",
    "    data = np.append(data,brain_sig)\n",
    "\n",
    "    hnn.store(data)"
   ]
  },
  {
   "cell_type": "code",
   "execution_count": 179,
   "metadata": {},
   "outputs": [
    {
     "name": "stdout",
     "output_type": "stream",
     "text": [
      "mean:  0.0291362847222\n",
      "max:  0.1875\n",
      "std:  0.0568160416579\n",
      "duration:  1.20923197269\n"
     ]
    },
    {
     "data": {
      "image/png": "[encoded data removed]",
      "text/plain": [
       "<matplotlib.figure.Figure at 0x7f0c15918150>"
      ]
     },
     "metadata": {},
     "output_type": "display_data"
    },
    {
     "name": "stdout",
     "output_type": "stream",
     "text": [
      "Values[0]:  222.0\n"
     ]
    }
   ],
   "source": [
    "durations = []\n",
    "diffs = []\n",
    "samples = 10\n",
    "for i in range(samples):\n",
    "    for id_ in matrices:\n",
    "        # setup input with complete brain_id signal\n",
    "        data = np.zeros(m_encoder.nodes)-1\n",
    "        brain_sig = brain_id[id_]\n",
    "        brain_sig = b_encoder.encode(brain_sig)\n",
    "        data = np.append(data,brain_sig)\n",
    "    \n",
    "        # set number of iterations -- proportional to number of nodes (i.e. 300*72 = 21600)\n",
    "        hnn.setIter(21600)\n",
    "\n",
    "        # recall matrix value\n",
    "        t0 = time.time()\n",
    "        mem = hnn.recall(data)\n",
    "        duration = time.time()-t0\n",
    "        durations.append(duration)\n",
    "\n",
    "        # decode recalled matrix\n",
    "        mem_decoded = m_encoder.decode_ndarray(mem[0:m_encoder.nodes])\n",
    "\n",
    "        # calculate recall error\n",
    "        matrix_decoded = m_encoder.decode_ndarray(m_encoder.encode_ndarray(matrices[id_]).flatten())\n",
    "        diff = mem_decoded-matrix_decoded\n",
    "        diffs.append(abs(np.array(diff)))\n",
    "\n",
    "# print meta data\n",
    "print \"mean: \", np.mean(np.array(diffs).flatten())\n",
    "print \"max: \", np.max(np.array(diffs).flatten())\n",
    "print \"std: \", np.std(np.array(diffs).flatten())\n",
    "print \"duration: \", np.mean(durations)\n",
    "\n",
    "# Bar graph plot\n",
    "# plotting constants \n",
    "max_ = 0.5\n",
    "bars = 40\n",
    "\n",
    "# calculate category indices\n",
    "categories = []\n",
    "for i in range(bars):\n",
    "    categories.append(i*max_/bars)\n",
    "width = categories[1]\n",
    "\n",
    "# tally number of instances for each category\n",
    "values = np.zeros(bars)\n",
    "for diff in np.array(diffs).flatten():\n",
    "    i = int(diff/(max_+0.0000001)*bars)\n",
    "    values[i] += 1\n",
    "# divide by number of samples to obtain normalized score\n",
    "values /= samples\n",
    "\n",
    "# plot bar graph\n",
    "plt.figure(1)\n",
    "plt.bar(categories, values, width, align='center')\n",
    "plt.show()\n",
    "\n",
    "# print number of values that fall into first category (good approximation of how well the memory does)\n",
    "print \"Values[0]: \", values[0]"
   ]
  },
  {
   "cell_type": "markdown",
   "metadata": {},
   "source": [
    "### Inspecting the Hamming distances of full matrices as memories"
   ]
  },
  {
   "cell_type": "code",
   "execution_count": 19,
   "metadata": {},
   "outputs": [],
   "source": [
    "def hamming_distance(a,b):\n",
    "    return len(np.nonzero(a-b)[0])"
   ]
  },
  {
   "cell_type": "code",
   "execution_count": 29,
   "metadata": {},
   "outputs": [],
   "source": [
    "m_encoder = scalar_sdr(80,22,-0.25,0.25,(6,12))\n",
    "encoded_matrices = {}\n",
    "for id_ in brain_id:\n",
    "    matrix = matrices[id_]\n",
    "    encoded_matrices[id_] = m_encoder.encode_ndarray(matrix).flatten()"
   ]
  },
  {
   "cell_type": "code",
   "execution_count": 30,
   "metadata": {},
   "outputs": [
    {
     "name": "stdout",
     "output_type": "stream",
     "text": [
      "Ids: zero, fs\n",
      "Diff: 2802, proportion: 0.385314\n",
      "\n",
      "Ids: zero, fb\n",
      "Diff: 2714, proportion: 0.373212\n",
      "\n",
      "Ids: zero, sd\n",
      "Diff: 1894, proportion: 0.260451\n",
      "\n",
      "Ids: fs, fb\n",
      "Diff: 1010, proportion: 0.138889\n",
      "\n",
      "Ids: fs, sd\n",
      "Diff: 2010, proportion: 0.276403\n",
      "\n",
      "Ids: fb, sd\n",
      "Diff: 1980, proportion: 0.272277\n",
      "\n"
     ]
    }
   ],
   "source": [
    "keys = encoded_matrices.keys()\n",
    "length = len(encoded_matrices[keys[0]])\n",
    "#print \"Length: %i\\n\" %length\n",
    "for i in range(len(encoded_matrices)-1):\n",
    "    for j in range(i+1,len(encoded_matrices)):\n",
    "        diff = hamming_distance(encoded_matrices[keys[i]],encoded_matrices[keys[j]])\n",
    "        proportion = float(diff)/length\n",
    "        print \"Ids: %s, %s\" %(keys[i],keys[j])\n",
    "        print \"Diff: %i, proportion: %f\\n\" %(diff,proportion)"
   ]
  },
  {
   "cell_type": "code",
   "execution_count": 180,
   "metadata": {},
   "outputs": [],
   "source": [
    "# the behaviors are too similar to each other it seems"
   ]
  },
  {
   "cell_type": "markdown",
   "metadata": {},
   "source": [
    "### Recall matrix from partial matrix for various proportions"
   ]
  },
  {
   "cell_type": "code",
   "execution_count": 182,
   "metadata": {},
   "outputs": [
    {
     "name": "stdout",
     "output_type": "stream",
     "text": [
      "Portion - 99.000000\n",
      "mean:  0.0327690972222\n",
      "max:  0.3375\n",
      "std:  0.0670470371519\n",
      "duration:  0.930240750313\n"
     ]
    },
    {
     "data": {
      "image/png": "[encoded data removed]",
      "text/plain": [
       "<matplotlib.figure.Figure at 0x7f0c15a96950>"
      ]
     },
     "metadata": {},
     "output_type": "display_data"
    },
    {
     "name": "stdout",
     "output_type": "stream",
     "text": [
      "Values[0]:  222.0\n",
      "Portion - 95.000000\n",
      "mean:  0.0292100694444\n",
      "max:  0.1875\n",
      "std:  0.056817783821\n",
      "duration:  0.947192847729\n"
     ]
    },
    {
     "data": {
      "image/png": "[encoded data removed]",
      "text/plain": [
       "<matplotlib.figure.Figure at 0x7f0c159e2c10>"
      ]
     },
     "metadata": {},
     "output_type": "display_data"
    },
    {
     "name": "stdout",
     "output_type": "stream",
     "text": [
      "Values[0]:  222.0\n",
      "Portion - 90.000000\n",
      "mean:  0.0291232638889\n",
      "max:  0.1875\n",
      "std:  0.056967183357\n",
      "duration:  0.948033332825\n"
     ]
    },
    {
     "data": {
      "image/png": "[encoded data removed]",
      "text/plain": [
       "<matplotlib.figure.Figure at 0x7f0c15dbef50>"
      ]
     },
     "metadata": {},
     "output_type": "display_data"
    },
    {
     "name": "stdout",
     "output_type": "stream",
     "text": [
      "Values[0]:  222.0\n",
      "Portion - 85.000000\n",
      "mean:  0.0290798611111\n",
      "max:  0.1875\n",
      "std:  0.0569464954534\n",
      "duration:  0.919963717461\n"
     ]
    },
    {
     "data": {
      "image/png": "[encoded data removed]",
      "text/plain": [
       "<matplotlib.figure.Figure at 0x7f0c158bebd0>"
      ]
     },
     "metadata": {},
     "output_type": "display_data"
    },
    {
     "name": "stdout",
     "output_type": "stream",
     "text": [
      "Values[0]:  222.0\n",
      "Portion - 80.000000\n",
      "mean:  0.0290364583333\n",
      "max:  0.1875\n",
      "std:  0.0567157069412\n",
      "duration:  0.922077000141\n"
     ]
    },
    {
     "data": {
      "image/png": "[encoded data removed]",
      "text/plain": [
       "<matplotlib.figure.Figure at 0x7f0c155ee6d0>"
      ]
     },
     "metadata": {},
     "output_type": "display_data"
    },
    {
     "name": "stdout",
     "output_type": "stream",
     "text": [
      "Values[0]:  222.0\n",
      "Portion - 75.000000\n",
      "mean:  0.0292534722222\n",
      "max:  0.1875\n",
      "std:  0.0568002254656\n",
      "duration:  1.00283199549\n"
     ]
    },
    {
     "data": {
      "image/png": "[encoded data removed]",
      "text/plain": [
       "<matplotlib.figure.Figure at 0x7f0c158ac510>"
      ]
     },
     "metadata": {},
     "output_type": "display_data"
    },
    {
     "name": "stdout",
     "output_type": "stream",
     "text": [
      "Values[0]:  222.0\n",
      "Portion - 70.000000\n",
      "mean:  0.0292534722222\n",
      "max:  0.1875\n",
      "std:  0.0568002254656\n",
      "duration:  0.971389949322\n"
     ]
    },
    {
     "data": {
      "image/png": "[encoded data removed]",
      "text/plain": [
       "<matplotlib.figure.Figure at 0x7f0c154c6350>"
      ]
     },
     "metadata": {},
     "output_type": "display_data"
    },
    {
     "name": "stdout",
     "output_type": "stream",
     "text": [
      "Values[0]:  222.0\n"
     ]
    }
   ],
   "source": [
    "m_encoder = scalar_sdr(40,22,-0.25,0.25,(6,12))\n",
    "nodes = m_encoder.nodes\n",
    "hnn = Hopfield_Neural_Network(nodes)\n",
    "\n",
    "for id_ in matrices:\n",
    "    matrix = m_encoder.encode_ndarray(matrices[id_]).flatten()\n",
    "    hnn.store(matrix)\n",
    "\n",
    "portions = [99,95,90,85,80,75,70]\n",
    "for portion in portions:\n",
    "    diffs = []\n",
    "    durations = []\n",
    "    mems = []\n",
    "    \n",
    "    print \"Portion - %f\" %(portion)\n",
    "    \n",
    "    for id_ in matrices:\n",
    "        \n",
    "        matrix = m_encoder.encode_ndarray(matrices[id_]).flatten()\n",
    "        size = int(float(portion)/float(100)*len(matrix))\n",
    "        flip_indices = np.random.choice(a=hnn.nodes,size=size,replace=False)\n",
    "        matrix[flip_indices] = -1\n",
    "\n",
    "        hnn.setIter(20000)\n",
    "        t0 = time.time()\n",
    "        mem = hnn.recall(matrix)\n",
    "        duration = time.time()-t0\n",
    "        durations.append(duration)\n",
    "\n",
    "        mem_decoded = m_encoder.decode_ndarray(mem)\n",
    "        mems.append(mem_decoded)\n",
    "        \n",
    "        matrix_decoded = m_encoder.decode_ndarray(m_encoder.encode_ndarray(matrices[id_]).flatten())\n",
    "        diff = mem_decoded-matrix_decoded\n",
    "        diffs.append(abs(np.array(diff)))\n",
    "\n",
    "    print \"mean: \", np.mean(np.array(diffs).flatten())\n",
    "    print \"max: \", np.max(np.array(diffs).flatten())\n",
    "    print \"std: \", np.std(np.array(diffs).flatten())\n",
    "    print \"duration: \", np.mean(durations)\n",
    "\n",
    "    categories = []\n",
    "    max_ = 0.5\n",
    "    bars = 40\n",
    "    values = np.zeros(bars)\n",
    "    for i in range(bars):\n",
    "        categories.append(i*max_/bars)\n",
    "    for diff in np.array(diffs).flatten():\n",
    "        i = int(diff/(max_+0.0000001)*bars)\n",
    "        values[i] += 1\n",
    "    plt.figure(1)\n",
    "    w = categories[1]\n",
    "    plt.bar(categories, values, w, align='center')\n",
    "    plt.show()\n",
    "\n",
    "    print \"Values[0]: \", values[0]"
   ]
  },
  {
   "cell_type": "code",
   "execution_count": 84,
   "metadata": {},
   "outputs": [],
   "source": [
    "#print \"pickling experiment data\"\n",
    "#pickle_out = open(\"experiments_1_2_portion_B300.pickle\",\"wb\")\n",
    "#pickle.dump(experiments, pickle_out)\n",
    "#pickle_out.close()"
   ]
  },
  {
   "cell_type": "markdown",
   "metadata": {},
   "source": [
    "### Recall single matrix value from brain_id and single DEP state"
   ]
  },
  {
   "cell_type": "code",
   "execution_count": 183,
   "metadata": {},
   "outputs": [],
   "source": [
    "m_encoder = scalar_sdr(80,44,-0.25,0.25)\n",
    "b_encoder = scalar_sdr(46,20,0.0,1.0)\n",
    "dep_encoder = scalar_sdr(46,20,-0.25,0.25)"
   ]
  },
  {
   "cell_type": "code",
   "execution_count": 184,
   "metadata": {},
   "outputs": [],
   "source": [
    "nodes =  m_encoder.n + b_encoder.n + dep_encoder.n"
   ]
  },
  {
   "cell_type": "code",
   "execution_count": 185,
   "metadata": {},
   "outputs": [],
   "source": [
    "nns = {}\n",
    "for index in np.ndindex(matrices[\"zero\"].shape):\n",
    "    hnn = Hopfield_Neural_Network(nodes)\n",
    "    for id_ in brain_id:\n",
    "        \n",
    "        matrix = matrices[id_][index]\n",
    "        matrix = m_encoder.encode(float(matrix))\n",
    "        brain_sig = brain_id[id_]\n",
    "        brain_sig = b_encoder.encode(brain_sig)\n",
    "        \n",
    "        for id_dep in matrices:\n",
    "            data = np.array([])\n",
    "            data = np.append(data,matrix.flatten())\n",
    "            data = np.append(data,brain_sig)\n",
    "            \n",
    "            dep = matrices[id_dep][index]\n",
    "            dep = dep_encoder.encode(float(dep))\n",
    "            data = np.append(data,dep)\n",
    "            \n",
    "            hnn.store(data)\n",
    "\n",
    "    nns[index] = hnn"
   ]
  },
  {
   "cell_type": "code",
   "execution_count": 186,
   "metadata": {},
   "outputs": [
    {
     "name": "stdout",
     "output_type": "stream",
     "text": [
      "mean:  0.0293511284722\n",
      "max:  0.3375\n",
      "std:  0.0585192417461\n",
      "duration:  0.00166375161045\n"
     ]
    },
    {
     "data": {
      "image/png": "[encoded data removed]",
      "text/plain": [
       "<matplotlib.figure.Figure at 0x7f0c15a90750>"
      ]
     },
     "metadata": {},
     "output_type": "display_data"
    },
    {
     "name": "stdout",
     "output_type": "stream",
     "text": [
      "Values[0]:  220.6\n"
     ]
    }
   ],
   "source": [
    "diffs = []\n",
    "durations = []\n",
    "samples = 10\n",
    "for i in range(samples):\n",
    "    for index in np.ndindex(matrices[\"zero\"].shape):\n",
    "        #print(\"Index: \"+str(index))\n",
    "        for id_ in brain_id:\n",
    "            brain_sig = brain_id[id_]\n",
    "            brain_sig = b_encoder.encode(brain_sig)\n",
    "            for id_dep in matrices:\n",
    "                data = np.zeros(m_encoder.n)-1\n",
    "                data = np.append(data,brain_sig)\n",
    "                \n",
    "                dep = matrices[id_dep][index]\n",
    "                dep = dep_encoder.encode(float(dep))\n",
    "                data = np.append(data,dep)\n",
    "\n",
    "                nns[index].setIter(600)\n",
    "                t0 = time.time()\n",
    "                mem = nns[index].recall(data,(0,m_encoder.n))\n",
    "                duration = time.time()-t0\n",
    "                durations.append(duration)\n",
    "\n",
    "                matrix_out = mem[0:m_encoder.n]\n",
    "                matrix_decoded = m_encoder.decode(matrix_out)\n",
    "\n",
    "                diff = m_encoder.decode(m_encoder.encode(float(matrices[id_][index])))-matrix_decoded\n",
    "                diffs.append(abs(np.array(diff)))\n",
    "                  \n",
    "# print meta data\n",
    "print \"mean: \", np.mean(np.array(diffs).flatten())\n",
    "print \"max: \", np.max(np.array(diffs).flatten())\n",
    "print \"std: \", np.std(np.array(diffs).flatten())\n",
    "print \"duration: \", np.mean(durations)\n",
    "\n",
    "# Bar graph plot\n",
    "# plotting constants \n",
    "max_ = 0.5\n",
    "bars = 40\n",
    "\n",
    "# calculate category indices\n",
    "categories = []\n",
    "for i in range(bars):\n",
    "    categories.append(i*max_/bars)\n",
    "width = categories[1]\n",
    "\n",
    "# tally number of instances for each category\n",
    "values = np.zeros(bars)\n",
    "for diff in np.array(diffs).flatten():\n",
    "    i = int(diff/(max_+0.0000001)*bars)\n",
    "    values[i] += 1\n",
    "# divide by number of samplesa and ids to obtain normalized score\n",
    "values /= samples\n",
    "values /= len(matrices.keys())\n",
    "\n",
    "# plot bar graph\n",
    "plt.figure(1)\n",
    "plt.bar(categories, values, width, align='center')\n",
    "plt.show()\n",
    "\n",
    "# print number of values that fall into first category (good approximation of how well the memory does)\n",
    "print \"Values[0]: \", values[0]"
   ]
  },
  {
   "cell_type": "markdown",
   "metadata": {},
   "source": [
    "#### Recall single matrix value from 2x brain_id"
   ]
  },
  {
   "cell_type": "code",
   "execution_count": 23,
   "metadata": {},
   "outputs": [],
   "source": [
    "m_encoder = scalar_sdr(80,44,-0.25,0.25)\n",
    "b_encoder = scalar_sdr(44,20,0.0,1.0)\n",
    "b_dep_encoder = scalar_sdr(44,20,0.0,1.0)\n",
    "#pos_encoder = scalar_sdr(44,20,-100000.0,100000.0)\n",
    "#vel_encoder = scalar_sdr(200,41,-70.0,70.0,(6,))"
   ]
  },
  {
   "cell_type": "code",
   "execution_count": 24,
   "metadata": {},
   "outputs": [],
   "source": [
    "nodes =  m_encoder.n + b_encoder.n + b_dep_encoder.n"
   ]
  },
  {
   "cell_type": "code",
   "execution_count": 25,
   "metadata": {},
   "outputs": [],
   "source": [
    "nns = {}\n",
    "for index in np.ndindex(matrices[\"zero\"].shape):\n",
    "    hnn = Hopfield_Neural_Network(nodes)\n",
    "    for id_ in brain_id:\n",
    "        \n",
    "        matrix = matrices[id_][index]\n",
    "        matrix = m_encoder.encode(float(matrix))\n",
    "        brain_sig = brain_id[id_]\n",
    "        brain_sig = b_encoder.encode(brain_sig)\n",
    "        \n",
    "        for id_dep in matrices:\n",
    "            data = np.array([])\n",
    "            data = np.append(data,matrix.flatten())\n",
    "            data = np.append(data,brain_sig)\n",
    "            \n",
    "            brain_sig1 = brain_id[id_dep]\n",
    "            brain_sig1 = b_dep_encoder.encode(brain_sig1)\n",
    "            data = np.append(data,brain_sig1)\n",
    "            \n",
    "            hnn.store(data)\n",
    "\n",
    "    nns[index] = hnn"
   ]
  },
  {
   "cell_type": "code",
   "execution_count": 27,
   "metadata": {},
   "outputs": [
    {
     "name": "stdout",
     "output_type": "stream",
     "text": [
      "mean:  0.0299115668403\n",
      "max:  0.3375\n",
      "std:  0.0609129751013\n",
      "duration:  0.00140617763003\n"
     ]
    },
    {
     "data": {
      "image/png": "[encoded data removed]",
      "text/plain": [
       "<matplotlib.figure.Figure at 0x7f16f007d4d0>"
      ]
     },
     "metadata": {},
     "output_type": "display_data"
    },
    {
     "name": "stdout",
     "output_type": "stream",
     "text": [
      "Values[0]:  222.25\n"
     ]
    }
   ],
   "source": [
    "diffs = []\n",
    "durations = []\n",
    "samples = 10\n",
    "for i in range(samples):\n",
    "    for index in np.ndindex(matrices[\"zero\"].shape):\n",
    "        for id_ in brain_id:\n",
    "            brain_sig = brain_id[id_]\n",
    "            brain_sig = b_encoder.encode(brain_sig)\n",
    "            for id_dep in matrices:\n",
    "                data = np.zeros(m_encoder.n)-1\n",
    "                data = np.append(data,brain_sig)\n",
    "                \n",
    "                brain_sig1 = brain_id[id_dep]\n",
    "                brain_sig1 = b_dep_encoder.encode(brain_sig1)\n",
    "                data = np.append(data,brain_sig1)\n",
    "\n",
    "                nns[index].setIter(600)\n",
    "                t0 = time.time()\n",
    "                mem = nns[index].recall(data,(0,m_encoder.n))\n",
    "                duration = time.time()-t0\n",
    "                durations.append(duration)\n",
    "\n",
    "                matrix_out = mem[0:m_encoder.n]\n",
    "                matrix_decoded = m_encoder.decode(matrix_out)\n",
    "\n",
    "                diff = m_encoder.decode(m_encoder.encode(float(matrices[id_][index])))-matrix_decoded\n",
    "                diffs.append(abs(np.array(diff)))\n",
    "                \n",
    "print \"mean: \", np.mean(np.array(diffs).flatten())\n",
    "print \"max: \", np.max(np.array(diffs).flatten())\n",
    "print \"std: \", np.std(np.array(diffs).flatten())\n",
    "print \"duration: \", np.mean(durations)\n",
    "\n",
    "# Bar graph plot\n",
    "# plotting constants \n",
    "max_ = 0.5\n",
    "bars = 40\n",
    "\n",
    "# calculate category indices\n",
    "categories = []\n",
    "for i in range(bars):\n",
    "    categories.append(i*max_/bars)\n",
    "width = categories[1]\n",
    "\n",
    "# tally number of instances for each category\n",
    "values = np.zeros(bars)\n",
    "for diff in np.array(diffs).flatten():\n",
    "    i = int(diff/(max_+0.0000001)*bars)\n",
    "    values[i] += 1\n",
    "# divide by number of samples and ids to obtain normalized score\n",
    "values /= samples\n",
    "values /= len(matrices.keys())\n",
    "\n",
    "# plot bar graph\n",
    "plt.figure(1)\n",
    "plt.bar(categories, values, width, align='center')\n",
    "plt.show()\n",
    "\n",
    "# print number of values that fall into first category (good approximation of how well the memory does)\n",
    "print \"Values[0]: \", values[0]"
   ]
  },
  {
   "cell_type": "markdown",
   "metadata": {},
   "source": [
    "# LAM"
   ]
  },
  {
   "cell_type": "code",
   "execution_count": 55,
   "metadata": {},
   "outputs": [],
   "source": [
    "class LAM:\n",
    "    def __init__(self,shape,weights=None):\n",
    "        self.shape = shape\n",
    "        try:\n",
    "            if weights == None:\n",
    "                self.weights = np.zeros(shape)\n",
    "        except ValueError:\n",
    "            self.weights = weights\n",
    "    \n",
    "    def store(self,input,output):\n",
    "        dW = np.outer(input,output)\n",
    "        self.weights += dW\n",
    "        \n",
    "    def recall(self,input,threshold=0,print_=False):\n",
    "        output = input.dot(self.weights)-threshold\n",
    "        if print_ == True:\n",
    "            print output\n",
    "        output[output > 0] = 1\n",
    "        output[output < 0] = 0\n",
    "        return output\n",
    "\n",
    "    def save_weights(self,filename):\n",
    "        np.save(filename, self.weights)\n",
    "        \n",
    "    def load_weights(self,filename):\n",
    "        weights = np.load(filename)\n",
    "        if weights.shape == self.shape:\n",
    "            self.weights = weights\n",
    "        else:\n",
    "            raise ValueError(\"Dimensions of specified weight array does not match network weight dimensions!\")"
   ]
  },
  {
   "cell_type": "markdown",
   "metadata": {},
   "source": [
    "#### Single matrix value from brain_id"
   ]
  },
  {
   "cell_type": "code",
   "execution_count": 51,
   "metadata": {},
   "outputs": [],
   "source": [
    "matrix_shape = (1,)\n",
    "m_encoder = scalar_sdr(100,21,-0.25,0.25,matrix_shape,neg=False)\n",
    "b_encoder = scalar_sdr(100,21,0.0,1.0,neg=False)"
   ]
  },
  {
   "cell_type": "code",
   "execution_count": 52,
   "metadata": {},
   "outputs": [],
   "source": [
    "nodes = m_encoder.nodes + b_encoder.nodes"
   ]
  },
  {
   "cell_type": "code",
   "execution_count": 53,
   "metadata": {},
   "outputs": [],
   "source": [
    "nns = {}\n",
    "for index in np.ndindex(matrices[\"zero\"].shape):\n",
    "    lma = LAM((b_encoder.n,m_encoder.n))\n",
    "    for id_ in brain_id:\n",
    "        matrix = matrices[id_][index]\n",
    "        matrix = m_encoder.encode(float(matrix)).flatten()\n",
    "\n",
    "        brain_sig = brain_id[id_]\n",
    "        brain_sig = b_encoder.encode(brain_sig)\n",
    "\n",
    "        lma.store(brain_sig,matrix)\n",
    "\n",
    "    nns[index] = lma"
   ]
  },
  {
   "cell_type": "code",
   "execution_count": 54,
   "metadata": {},
   "outputs": [
    {
     "name": "stdout",
     "output_type": "stream",
     "text": [
      "mean:  0.0\n",
      "max:  0.0\n",
      "std:  0.0\n",
      "duration:  1.78813934326e-05\n"
     ]
    },
    {
     "data": {
      "image/png": "[encoded data removed]",
      "text/plain": [
       "<matplotlib.figure.Figure at 0x7fd8d6749bd0>"
      ]
     },
     "metadata": {},
     "output_type": "display_data"
    },
    {
     "name": "stdout",
     "output_type": "stream",
     "text": [
      "Values[0]:  288.0\n"
     ]
    }
   ],
   "source": [
    "diffs = []\n",
    "durations = []\n",
    "samples = 10\n",
    "for i in range(samples):\n",
    "    for index in np.ndindex(matrices[\"zero\"].shape):\n",
    "        for id_ in brain_id:\n",
    "            brain_sig = brain_id[id_]\n",
    "            brain_sig = b_encoder.encode(brain_sig)\n",
    "\n",
    "            t0 = time.time()\n",
    "            mem = nns[index].recall(brain_sig)\n",
    "            durations = time.time()-t0\n",
    "\n",
    "            matrix_decoded = m_encoder.decode(mem.reshape(m_encoder.n,1))\n",
    "            #print matrix_decoded\n",
    "\n",
    "            diff = m_encoder.decode(m_encoder.encode(float(matrices[id_][index])))-matrix_decoded\n",
    "            #print m_encoder.decode(m_encoder.encode(float(matrices[id_][index])))\n",
    "            diffs.append(abs(np.array(diff)))\n",
    "\n",
    "# print meta data\n",
    "print \"mean: \", np.mean(np.array(diffs).flatten())\n",
    "print \"max: \", np.max(np.array(diffs).flatten())\n",
    "print \"std: \", np.std(np.array(diffs).flatten())\n",
    "print \"duration: \", np.mean(durations)\n",
    "\n",
    "# Bar graph plot\n",
    "# plotting constants \n",
    "max_ = 0.5\n",
    "bars = 40\n",
    "\n",
    "# calculate category indices\n",
    "categories = []\n",
    "for i in range(bars):\n",
    "    categories.append(i*max_/bars)\n",
    "width = categories[1]\n",
    "\n",
    "# tally number of instances for each category\n",
    "values = np.zeros(bars)\n",
    "for diff in np.array(diffs).flatten():\n",
    "    i = int(diff/(max_+0.0000001)*bars)\n",
    "    values[i] += 1\n",
    "# divide by number of samples and ids to obtain normalized score\n",
    "values /= samples\n",
    "\n",
    "# plot bar graph\n",
    "plt.figure(1)\n",
    "plt.bar(categories, values, width, align='center')\n",
    "plt.show()\n",
    "\n",
    "# print number of values that fall into first category (good approximation of how well the memory does)\n",
    "print \"Values[0]: \", values[0]"
   ]
  },
  {
   "cell_type": "markdown",
   "metadata": {},
   "source": [
    "#### Full matrix from brain_id"
   ]
  },
  {
   "cell_type": "code",
   "execution_count": 65,
   "metadata": {},
   "outputs": [],
   "source": [
    "matrix_shape = matrices[\"zero\"].shape\n",
    "m_encoder = scalar_sdr(100,21,-0.25,0.25,matrix_shape,neg=False)\n",
    "b_encoder = scalar_sdr(100,21,0.0,1.0,neg=False)"
   ]
  },
  {
   "cell_type": "code",
   "execution_count": 66,
   "metadata": {},
   "outputs": [],
   "source": [
    "shape = (b_encoder.n,m_encoder.n*reduce(lambda x, y: x*y, m_encoder.ndarray_shape))"
   ]
  },
  {
   "cell_type": "code",
   "execution_count": 67,
   "metadata": {},
   "outputs": [],
   "source": [
    "lma = LAM(shape)\n",
    "for id_ in brain_id:\n",
    "    data = np.array([])\n",
    "    matrix = matrices[id_]\n",
    "    matrix = m_encoder.encode_ndarray(matrix)\n",
    "\n",
    "    data = np.append(data,matrix.flatten())\n",
    "\n",
    "    brain_sig = brain_id[id_]\n",
    "    brain_sig = b_encoder.encode(brain_sig)\n",
    "\n",
    "    data = np.append(data,brain_sig)\n",
    "\n",
    "    lma.store(brain_sig,matrix)"
   ]
  },
  {
   "cell_type": "code",
   "execution_count": 69,
   "metadata": {},
   "outputs": [],
   "source": [
    "pickle_out = open(\"lam.pickle\",\"wb\")\n",
    "pickle.dump(lma, pickle_out)\n",
    "pickle_out.close()"
   ]
  },
  {
   "cell_type": "code",
   "execution_count": 68,
   "metadata": {},
   "outputs": [
    {
     "name": "stdout",
     "output_type": "stream",
     "text": [
      "mean:  0.0\n",
      "max:  0.0\n",
      "std:  0.0\n",
      "duration:  0.0021653175354\n"
     ]
    },
    {
     "data": {
      "image/png": "[encoded data removed]",
      "text/plain": [
       "<matplotlib.figure.Figure at 0x7fd8d6411e90>"
      ]
     },
     "metadata": {},
     "output_type": "display_data"
    },
    {
     "name": "stdout",
     "output_type": "stream",
     "text": [
      "Values[0]:  288.0\n"
     ]
    }
   ],
   "source": [
    "diffs = []\n",
    "durations = []\n",
    "for i in range(1):\n",
    "    for id_ in brain_id:\n",
    "        brain_sig = brain_id[id_]\n",
    "        brain_sig = b_encoder.encode(brain_sig)\n",
    "\n",
    "        t0 = time.time()\n",
    "        mem = lma.recall(np.array(brain_sig))\n",
    "        duration = time.time()-t0\n",
    "        durations.append(duration)\n",
    "\n",
    "        matrix_decoded = m_encoder.decode_ndarray(np.array(mem).reshape((reduce(lambda x, y: x*y, m_encoder.ndarray_shape)*m_encoder.n,)))\n",
    "        diff = m_encoder.decode_ndarray(np.array(m_encoder.encode_ndarray(matrices[id_])).reshape((reduce(lambda x, y: x*y, m_encoder.ndarray_shape)*m_encoder.n,)))-matrix_decoded\n",
    "        diffs.append(diff)\n",
    "\n",
    "# print meta data\n",
    "print \"mean: \", np.mean(np.array(diffs).flatten())\n",
    "print \"max: \", np.max(np.array(diffs).flatten())\n",
    "print \"std: \", np.std(np.array(diffs).flatten())\n",
    "print \"duration: \", np.mean(durations)\n",
    "\n",
    "# Bar graph plot\n",
    "# plotting constants \n",
    "max_ = 0.5\n",
    "bars = 40\n",
    "\n",
    "# calculate category indices\n",
    "categories = []\n",
    "for i in range(bars):\n",
    "    categories.append(i*max_/bars)\n",
    "width = categories[1]\n",
    "\n",
    "# tally number of instances for each category\n",
    "values = np.zeros(bars)\n",
    "for diff in np.array(diffs).flatten():\n",
    "    i = int(diff/(max_+0.0000001)*bars)\n",
    "    values[i] += 1\n",
    "\n",
    "# plot bar graph\n",
    "plt.figure(1)\n",
    "plt.bar(categories, values, width, align='center')\n",
    "plt.show()\n",
    "\n",
    "# print number of values that fall into first category (good approximation of how well the memory does)\n",
    "print \"Values[0]: \", values[0]"
   ]
  },
  {
   "cell_type": "markdown",
   "metadata": {},
   "source": [
    "### Full matrix from brain id, brain id, position and velocity"
   ]
  },
  {
   "cell_type": "code",
   "execution_count": 40,
   "metadata": {},
   "outputs": [],
   "source": [
    "import matplotlib.pyplot as plt"
   ]
  },
  {
   "cell_type": "code",
   "execution_count": 41,
   "metadata": {},
   "outputs": [],
   "source": [
    "matrix_shape = matrices[\"zero\"].shape\n",
    "matrix_encoder = scalar_sdr(80,44,-0.25,0.25,matrix_shape,neg=False)\n",
    "brain_encoder = scalar_sdr(1000,210,0.0,1.0,neg=False)\n",
    "state_encoder = scalar_sdr(40,22,-0.25,0.25,matrix_shape,neg=False)\n",
    "#pos_encoder = scalar_sdr(1000,21,-100000.0,100000.0,shape=pos[\"zero\"].shape,neg=False)\n",
    "#vel_encoder = scalar_sdr(1000,21,-70.0,70.0,shape=vel[\"zero\"].shape,neg=False)"
   ]
  },
  {
   "cell_type": "code",
   "execution_count": 42,
   "metadata": {},
   "outputs": [],
   "source": [
    "#shape = (brain_encoder.n*2+pos_encoder.n*reduce(lambda x, y: x*y, pos_encoder.ndarray_shape)+vel_encoder.n*reduce(lambda x, y: x*y, vel_encoder.ndarray_shape),matrix_encoder.n*reduce(lambda x, y: x*y, matrix_encoder.ndarray_shape))\n",
    "shape = (brain_encoder.n+state_encoder.n*reduce(lambda x, y: x*y, state_encoder.ndarray_shape), matrix_encoder.n*reduce(lambda x, y: x*y, matrix_encoder.ndarray_shape))"
   ]
  },
  {
   "cell_type": "code",
   "execution_count": 43,
   "metadata": {},
   "outputs": [],
   "source": [
    "lam = LAM(shape)"
   ]
  },
  {
   "cell_type": "code",
   "execution_count": 44,
   "metadata": {},
   "outputs": [],
   "source": [
    "for id_ in brain_id:\n",
    "    input_ = np.array([])\n",
    "    \n",
    "    state_id = state_encoder.encode_ndarray(matrices[\"zero\"]) # Note: this is not changed since it is sensory\n",
    "    input_ = np.append(input_,state_id.flatten())\n",
    "    \n",
    "    #motor_pos = pos_encoder.encode_ndarray(pos[\"zero\"])\n",
    "    #input_ = np.append(input_,motor_pos.flatten())\n",
    "    \n",
    "    #motor_vel = vel_encoder.encode_ndarray(vel[\"zero\"])\n",
    "    #input_ = np.append(input_,motor_vel.flatten())\n",
    "    \n",
    "    brain_sig = brain_encoder.encode(brain_id[id_])\n",
    "    input_ = np.append(input_,brain_sig.flatten())\n",
    "\n",
    "    output = matrix_encoder.encode_ndarray(matrices[id_])\n",
    "    \n",
    "    lam.store(input_,output)"
   ]
  },
  {
   "cell_type": "code",
   "execution_count": 45,
   "metadata": {},
   "outputs": [
    {
     "name": "stdout",
     "output_type": "stream",
     "text": [
      "mean:  0.0609592013889\n",
      "max:  0.2625\n",
      "std:  0.108928588325\n",
      "duration:  0.000935316085815\n"
     ]
    },
    {
     "data": {
      "image/png": "[encoded data removed]",
      "text/plain": [
       "<matplotlib.figure.Figure at 0x7f22a8075b10>"
      ]
     },
     "metadata": {},
     "output_type": "display_data"
    },
    {
     "name": "stdout",
     "output_type": "stream",
     "text": [
      "Values[0]:  111.0\n"
     ]
    }
   ],
   "source": [
    "diffs = []\n",
    "\n",
    "for id_ in brain_id:\n",
    "    input_ = np.array([])\n",
    "    \n",
    "    #state_id = state_encoder.encode(brain_id[\"zero\"])\n",
    "    state_id = state_encoder.encode_ndarray(matrices[\"zero\"])\n",
    "    input_ = np.append(input_,state_id.flatten())\n",
    "    \n",
    "    #motor_pos = pos_encoder.encode_ndarray(pos[\"zero\"])\n",
    "    #input_ = np.append(input_,motor_pos.flatten())\n",
    "    \n",
    "    #motor_vel = vel_encoder.encode_ndarray(vel[\"zero\"])\n",
    "    #input_ = np.append(input_,motor_vel.flatten())\n",
    "    \n",
    "    brain_sig = brain_encoder.encode(brain_id[id_])\n",
    "    input_ = np.append(input_,brain_sig.flatten())\n",
    "    \n",
    "    mem = lam.recall(input_)\n",
    "    \n",
    "    matrix_decoded = matrix_encoder.decode_ndarray(np.array(mem).reshape((reduce(lambda x, y: x*y, matrix_encoder.ndarray_shape)*matrix_encoder.n,)))\n",
    "    \n",
    "    diff = matrix_encoder.decode_ndarray(np.array(matrix_encoder.encode_ndarray(matrices[id_])).reshape((reduce(lambda x, y: x*y, matrix_encoder.ndarray_shape)*matrix_encoder.n,)))-matrix_decoded\n",
    "\n",
    "    diffs.append(diff)\n",
    "\n",
    "# print meta data\n",
    "print \"mean: \", np.mean(np.array(diffs).flatten())\n",
    "print \"max: \", np.max(np.array(diffs).flatten())\n",
    "print \"std: \", np.std(np.array(diffs).flatten())\n",
    "print \"duration: \", np.mean(durations)\n",
    "\n",
    "# Bar graph plot\n",
    "# plotting constants \n",
    "max_ = 0.5\n",
    "bars = 40\n",
    "\n",
    "# calculate category indices\n",
    "categories = []\n",
    "for i in range(bars):\n",
    "    categories.append(i*max_/bars)\n",
    "width = categories[1]\n",
    "\n",
    "# tally number of instances for each category\n",
    "values = np.zeros(bars)\n",
    "for diff in np.array(diffs).flatten():\n",
    "    i = int(diff/(max_+0.0000001)*bars)\n",
    "    values[i] += 1\n",
    "\n",
    "# plot bar graph\n",
    "plt.figure(1)\n",
    "plt.bar(categories, values, width, align='center')\n",
    "plt.show()\n",
    "\n",
    "# print number of values that fall into first category (good approximation of how well the memory does)\n",
    "print \"Values[0]: \", values[0]"
   ]
  },
  {
   "cell_type": "markdown",
   "metadata": {},
   "source": [
    "### Trigger signal from motor status"
   ]
  },
  {
   "cell_type": "code",
   "execution_count": 65,
   "metadata": {},
   "outputs": [],
   "source": [
    "class category_sdr:\n",
    "    def __init__(self,categories,width=20):\n",
    "        self.letters = len(categories[0])\n",
    "        if len(np.nonzero(np.array([len(i) for i in categories])-len(categories[0]))[0]) != 0:\n",
    "            raise ValueError(\"Categories must have equal lengths!\")\n",
    "        self.categories = categories\n",
    "        self.encoder = scalar_sdr(128,width,0.0,128.0,(self.letters,1),neg=False)\n",
    "        self.nodes = self.letters*self.encoder.n\n",
    "        \n",
    "    def encode(self,input_):\n",
    "        if input_ not in self.categories:\n",
    "            raise ValueError(\"Not valid category\")\n",
    "        output = self.encoder.encode_ndarray(np.array([ord(i) for i in input_]).reshape(self.encoder.ndarray_shape)).flatten()\n",
    "        return output\n",
    "    \n",
    "    def decode(self,input_):\n",
    "        max_ = 0\n",
    "        cat = ''\n",
    "        for category in self.categories:\n",
    "            cat_enc = self.encode(category)\n",
    "            score = len(np.nonzero(cat_enc*input_)[0])\n",
    "            if score > max_:\n",
    "                max_ = score\n",
    "                cat = category\n",
    "        return cat"
   ]
  },
  {
   "cell_type": "markdown",
   "metadata": {},
   "source": [
    "#### Hopfield"
   ]
  },
  {
   "cell_type": "markdown",
   "metadata": {},
   "source": [
    "#### Category from single sensor channel"
   ]
  },
  {
   "cell_type": "code",
   "execution_count": null,
   "metadata": {},
   "outputs": [],
   "source": [
    "pos_encoder = scalar_sdr(40,22,-100000.0,100000.0)\n",
    "categories = ['ZEROzero','11oneONE']\n",
    "output_encoder = category_sdr(categories,width=45)"
   ]
  },
  {
   "cell_type": "markdown",
   "metadata": {},
   "source": [
    "#### Category from sensor array"
   ]
  },
  {
   "cell_type": "code",
   "execution_count": null,
   "metadata": {},
   "outputs": [],
   "source": [
    "# initialize encoders\n",
    "pos_encoder = scalar_sdr(40,22,-100000.0,100000.0,shape=pos[\"zero\"].shape)\n",
    "vel_encoder = scalar_sdr(40,22,-70.0,70.0,shape=vel[\"zero\"].shape)\n",
    "categories = ['ZEROzero','11oneONE']\n",
    "output_encoder = category_sdr(categories,width=45)\n",
    "\n",
    "pos_nodes = pos_encoder.nodes\n",
    "vel_nodes = vel_encoder.nodes\n",
    "output_nodes = output_encoder.nodes\n",
    "nodes = int(pos_nodes+vel_nodes+output_nodes)\n",
    "\n",
    "# initialize hnn\n",
    "hnn = Hopfield_Neural_Network(nodes)"
   ]
  },
  {
   "cell_type": "code",
   "execution_count": 60,
   "metadata": {},
   "outputs": [],
   "source": [
    "#diff = hamming_distance(output_encoder.encode(categories[0]),output_encoder.encode(categories[1]))\n",
    "#length = len(output_encoder.encode(categories[0]))\n",
    "#proportion = float(diff)/length\n",
    "#print \"Diff: %i, length: %i, proportion: %f\\n\" %(diff,length,proportion)"
   ]
  },
  {
   "cell_type": "code",
   "execution_count": 62,
   "metadata": {},
   "outputs": [],
   "source": [
    "# store memories of transition points with position, velocity and output\n",
    "ts = {'fb': 124, 'fs': 126, 'sd': 117}\n",
    "for base in bases:\n",
    "    for i in range(bases[base][0].shape[0]):\n",
    "        \n",
    "        input_ = np.array([])\n",
    "\n",
    "        motor_pos = pos_encoder.encode_ndarray(bases[base][0][i][active_motors])\n",
    "        input_ = np.append(input_,motor_pos.flatten())\n",
    "\n",
    "        motor_vel = vel_encoder.encode_ndarray(bases[base][1][i][active_motors])\n",
    "        input_ = np.append(input_,motor_vel.flatten())\n",
    "\n",
    "        if i == ts[base]:\n",
    "            output = output_encoder.encode(categories[1])\n",
    "        else:\n",
    "            output = output_encoder.encode(categories[0])\n",
    "            \n",
    "        input_ = np.append(input_,output.flatten())\n",
    "        hnn.store(input_)"
   ]
  },
  {
   "cell_type": "code",
   "execution_count": 63,
   "metadata": {},
   "outputs": [
    {
     "name": "stdout",
     "output_type": "stream",
     "text": [
      "0 380\n"
     ]
    }
   ],
   "source": [
    "# attempt recall on all possibilities in position data\n",
    "ones = 0\n",
    "zeros = 0\n",
    "for base in bases:\n",
    "    for i in range(bases[base][0].shape[0]):\n",
    "        input_ = np.array([])\n",
    "        \n",
    "        motor_pos = pos_encoder.encode_ndarray(bases[base][0][i][active_motors])\n",
    "        input_ = np.append(input_,motor_pos.flatten())\n",
    "\n",
    "        motor_vel = vel_encoder.encode_ndarray(bases[base][1][i][active_motors])\n",
    "        input_ = np.append(input_,motor_vel.flatten())\n",
    "\n",
    "        out = np.zeros(output_nodes)-1\n",
    "        input_ = np.append(input_,out)\n",
    "        \n",
    "        hnn.setIter(10)\n",
    "        output = hnn.recall(np.array(input_),(output_nodes,nodes))\n",
    "        if output_encoder.decode(output[-output_nodes:].transpose()) == '11oneONE':\n",
    "            ones += 1\n",
    "        else:\n",
    "            zeros += 1\n",
    "print ones,zeros"
   ]
  },
  {
   "cell_type": "code",
   "execution_count": 64,
   "metadata": {},
   "outputs": [],
   "source": [
    "# Well the zeros overpower, argh"
   ]
  },
  {
   "cell_type": "markdown",
   "metadata": {},
   "source": [
    "#### LAM"
   ]
  },
  {
   "cell_type": "code",
   "execution_count": 111,
   "metadata": {},
   "outputs": [],
   "source": [
    "pos_encoder = scalar_sdr(80,44,-100000.0,100000.0,shape=pos[\"zero\"].shape,neg=False)\n",
    "vel_encoder = scalar_sdr(80,44,-70.0,70.0,shape=vel[\"zero\"].shape,neg=False)\n",
    "#output_encoder = category_sdr(categories,width=20)\n",
    "output_encoder = scalar_sdr(200,100,0.,400.,neg=False)"
   ]
  },
  {
   "cell_type": "code",
   "execution_count": 112,
   "metadata": {},
   "outputs": [],
   "source": [
    "pos_nodes = pos_encoder.n*reduce(lambda x, y: x*y, pos_encoder.ndarray_shape)\n",
    "vel_nodes = vel_encoder.n*reduce(lambda x, y: x*y, vel_encoder.ndarray_shape)\n",
    "output_nodes = output_encoder.n\n",
    "shape = (pos_nodes+vel_nodes, output_nodes)"
   ]
  },
  {
   "cell_type": "code",
   "execution_count": 113,
   "metadata": {},
   "outputs": [],
   "source": [
    "lam = LAM(shape)"
   ]
  },
  {
   "cell_type": "code",
   "execution_count": 114,
   "metadata": {},
   "outputs": [],
   "source": [
    "ts = {'fb': 124, 'fs': 126, 'sd': 117}\n",
    "map_ = {'fb': 0., 'fs': 1., 'sd': 2.}\n",
    "for base in bases:\n",
    "    for i in range(bases[base][0].shape[0]):\n",
    "        input_ = np.array([])\n",
    "        \n",
    "        motor_pos = pos_encoder.encode_ndarray(bases[base][0][i][active_motors])\n",
    "        input_ = np.append(input_,motor_pos.flatten())\n",
    "\n",
    "        motor_vel = vel_encoder.encode_ndarray(bases[base][1][i][active_motors])\n",
    "        input_ = np.append(input_,motor_vel.flatten())\n",
    "\n",
    "        #output = output_encoder.encode(categories[1])\n",
    "        output = output_encoder.encode(i+130*map_[base])\n",
    "        lam.store(input_,output)"
   ]
  },
  {
   "cell_type": "code",
   "execution_count": 131,
   "metadata": {},
   "outputs": [
    {
     "name": "stdout",
     "output_type": "stream",
     "text": [
      "fb\n",
      "182.0\n",
      "fs\n",
      "184.0\n",
      "sd\n",
      "196.0\n"
     ]
    }
   ],
   "source": [
    "for id_ in bases:\n",
    "    print id_\n",
    "    input_ = np.array([])\n",
    "    \n",
    "    motor_pos = pos_encoder.encode_ndarray(pos[id_])\n",
    "    input_ = np.append(input_,motor_pos.flatten())\n",
    "    \n",
    "    motor_vel = vel_encoder.encode_ndarray(vel[id_])\n",
    "    input_ = np.append(input_,motor_vel.flatten())\n",
    "\n",
    "    output = lam.recall(np.array(input_),threshold=58000).flatten()\n",
    "    #print output\n",
    "    print output_encoder.decode(output)"
   ]
  },
  {
   "cell_type": "markdown",
   "metadata": {},
   "source": [
    "#### Hard coded neurons"
   ]
  },
  {
   "cell_type": "code",
   "execution_count": 18,
   "metadata": {},
   "outputs": [],
   "source": [
    "active_motors = [1,3,4,5,10,12]\n",
    "ts = {'fb': 124, 'fs': 126, 'sd': 117}"
   ]
  },
  {
   "cell_type": "code",
   "execution_count": 19,
   "metadata": {},
   "outputs": [],
   "source": [
    "# output is taken dependent upon position; position node firing is inhibited by incorrect velocities"
   ]
  },
  {
   "cell_type": "code",
   "execution_count": 20,
   "metadata": {},
   "outputs": [],
   "source": [
    "pos_encoder = scalar_sdr(30,1,-100000.0,100000.0,neg=False)\n",
    "vel_encoder = scalar_sdr(10,1,-70.0,70.0,neg=False)\n",
    "weights = []\n",
    "weights_vel = []\n",
    "for i in active_motors:\n",
    "    w = np.zeros(pos_encoder.nodes)\n",
    "    w_vel = np.array([np.zeros(vel_encoder.nodes) for j in range(pos_encoder.nodes)])\n",
    "    for id_ in bases:\n",
    "        val = bases[id_][0][ts[id_]][i]\n",
    "        index_pos = int((val-pos_encoder.min)/(pos_encoder.max-pos_encoder.min)*pos_encoder.b)\n",
    "        w[index_pos] = 1\n",
    "\n",
    "        w_vel[index_pos] = vel_encoder.encode(float(bases[id_][1][ts[id_]][i]))-1\n",
    "    weights.append(w)\n",
    "    weights_vel.append(w_vel)\n",
    "weights = np.array(weights)\n",
    "weights_vel = np.array(weights_vel)"
   ]
  },
  {
   "cell_type": "code",
   "execution_count": 21,
   "metadata": {},
   "outputs": [],
   "source": [
    "#id_ = 'sd'\n",
    "#trigger = weights[0]*pos_encoder.encode(float(bases[id_][0][ts[id_]][1]))+np.sum(weights_vel[0]*vel_encoder.encode(float(bases[id_][1][ts[id_]][1])),axis=1)\n",
    "#trigger[trigger < 0] = 0 "
   ]
  },
  {
   "cell_type": "code",
   "execution_count": 22,
   "metadata": {},
   "outputs": [],
   "source": [
    "pos_encoder = scalar_sdr(30,1,-100000.0,100000.0,shape=(len(active_motors),1),neg=False)\n",
    "vel_encoder = scalar_sdr(10,1,-70.0,70.0,shape=(len(active_motors),1),neg=False)\n",
    "\n",
    "pos_ = pos_encoder.encode_ndarray(bases[id_][0][ts[id_]][active_motors].reshape(6,1)).reshape(6,30,1)\n",
    "vel_ = vel_encoder.encode_ndarray(bases[id_][1][ts[id_]][active_motors].reshape(6,1)).reshape(6,10,1)\n",
    "\n",
    "weights = weights.reshape(6,30,1)\n",
    "weights_vel = weights_vel.reshape(6,30,10)"
   ]
  },
  {
   "cell_type": "code",
   "execution_count": 24,
   "metadata": {},
   "outputs": [],
   "source": [
    "import tensorflow as tf\n",
    "import numpy as np\n",
    "\n",
    "with tf.name_scope(\"input\"):\n",
    "    pos_nodes = tf.placeholder(tf.float32, [6,30,1], name=\"encoded_motor_positions\")\n",
    "    vel_nodes = tf.placeholder(tf.float32, [6,10,1], name=\"encoded_motor_velocities\")\n",
    "\n",
    "with tf.name_scope(\"weights\")\n",
    "    w_pos = tf.Variable(np.zeros((6,30,1)), name=\"position_weights\", dtype=tf.float32)\n",
    "    w_vel = tf.Variable(np.zeros((6,30,10)), name=\"velocity_weights\", dtype=tf.float32)\n",
    "\n",
    "with tf.name_scope(\"trigger\"):\n",
    "    a = tf.multiply(pos_nodes,w_pos)\n",
    "    b = tf.matmul(w_vel,vel_nodes)\n",
    "    c = a + b\n",
    "    trigger = tf.nn.relu(tf.sign(c))\n",
    "\n",
    "sess = tf.Session()\n",
    "init = tf.global_variables_initializer()\n",
    "sess.run(init)\n",
    "sess.run(d,{pos_nodes: pos_, w_pos: weights, vel_nodes: vel_, w_vel: weights_vel})\n",
    "\n",
    "# Create a summary writer, add the 'graph' to the event file.\n",
    "writer = tf.summary.FileWriter(\"tf_logs\", sess.graph)\n"
   ]
  },
  {
   "cell_type": "code",
   "execution_count": null,
   "metadata": {},
   "outputs": [],
   "source": []
  }
 ],
 "metadata": {
  "kernelspec": {
   "display_name": "Python 2",
   "language": "python",
   "name": "python2"
  },
  "language_info": {
   "codemirror_mode": {
    "name": "ipython",
    "version": 2
   },
   "file_extension": ".py",
   "mimetype": "text/x-python",
   "name": "python",
   "nbconvert_exporter": "python",
   "pygments_lexer": "ipython2",
   "version": "2.7.12"
  }
 },
 "nbformat": 4,
 "nbformat_minor": 2
}
